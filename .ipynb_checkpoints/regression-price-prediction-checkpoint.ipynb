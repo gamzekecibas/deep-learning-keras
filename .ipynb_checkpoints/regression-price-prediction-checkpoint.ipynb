{
 "cells": [
  {
   "cell_type": "markdown",
   "id": "93e80984",
   "metadata": {},
   "source": [
    "# Predicting house prices:\n",
    "## Regression example\n",
    "### Deep Learning with Keras pg. 85\n",
    "#### The Boston Housing Price Dataset"
   ]
  },
  {
   "cell_type": "code",
   "execution_count": 1,
   "id": "d362f0ab",
   "metadata": {},
   "outputs": [
    {
     "name": "stdout",
     "output_type": "stream",
     "text": [
      "(404, 13)\n",
      "(102, 13)\n",
      "[15.2 42.3 50.  21.1 17.7 18.5 11.3 15.6 15.6]\n"
     ]
    }
   ],
   "source": [
    "# Step 01: Load dataset\n",
    "from keras.datasets import boston_housing\n",
    "\n",
    "(train_data, train_targets), (test_data, test_targets)= boston_housing.load_data()\n",
    "print(train_data.shape)\n",
    "print(test_data.shape)\n",
    "print(train_targets[0:9])"
   ]
  },
  {
   "cell_type": "code",
   "execution_count": 2,
   "id": "9ac3db94",
   "metadata": {},
   "outputs": [],
   "source": [
    "# Step 02: Prepare the data (normalizing)\n",
    "mean= train_data.mean(axis=0)\n",
    "train_data -= mean\n",
    "std= train_data.std(axis=0)\n",
    "train_data /= std\n",
    "\n",
    "test_data -= mean\n",
    "test_data /= std"
   ]
  },
  {
   "cell_type": "code",
   "execution_count": 3,
   "id": "a7b69098",
   "metadata": {},
   "outputs": [],
   "source": [
    "# Step 03: Building the network\n",
    "from keras import models\n",
    "from keras import layers\n",
    "\n",
    "def build_model():\n",
    "    model= models.Sequential()\n",
    "    model.add(layers.Dense(64, activation='relu', input_shape=(train_data.shape[1],)))\n",
    "    model.add(layers.Dense(1))\n",
    "    model.compile(optimizer='rmsprop', loss='mse', metrics=['mae'])\n",
    "    return model"
   ]
  },
  {
   "cell_type": "code",
   "execution_count": 4,
   "id": "170a4968",
   "metadata": {},
   "outputs": [
    {
     "name": "stdout",
     "output_type": "stream",
     "text": [
      "Processing fold #:  0\n",
      "Processing fold #:  1\n",
      "Processing fold #:  2\n",
      "Processing fold #:  3\n",
      "Mean Square Error (MSE):  11.194929122924805\n",
      "Mean Absolute Error (MAE):  2.3361802101135254\n",
      "Final scores:  [2.050787925720215, 2.1629812717437744, 2.6031527519226074, 2.3361802101135254]\n"
     ]
    }
   ],
   "source": [
    "# Step 04: Validation using K-fold validation\n",
    "import numpy as np\n",
    "\n",
    "k=4\n",
    "num_val_samples= len(train_data) //k\n",
    "num_epochs= 100\n",
    "all_scores= []\n",
    "\n",
    "for i in range(k):\n",
    "    print('Processing fold #: ',i)\n",
    "    val_data= train_data[i*num_val_samples: (i+1) * num_val_samples]\n",
    "    val_targets= train_targets[i* num_val_samples: (i+1)*num_val_samples]\n",
    "    \n",
    "    partial_train_data= np.concatenate([train_data[:i*num_val_samples],train_data[(i+1)*num_val_samples:]], axis=0)\n",
    "    partial_train_targets= np.concatenate([train_targets[:i*num_val_samples], train_targets[(i+1)*num_val_samples:]], axis=0)\n",
    "    \n",
    "    model= build_model()\n",
    "    model.fit(partial_train_data, partial_train_targets, epochs=num_epochs, batch_size=1, verbose=0)\n",
    "    val_mse, val_mae = model.evaluate(val_data, val_targets, verbose=0)\n",
    "    all_scores.append(val_mae)\n",
    "print('Mean Square Error (MSE): ', val_mse)\n",
    "print('Mean Absolute Error (MAE): ', val_mae)\n",
    "print('Final scores: ', all_scores)\n",
    "# print('Average Final Score: ', mean(all_scores))"
   ]
  },
  {
   "cell_type": "code",
   "execution_count": 5,
   "id": "1eb9f46d",
   "metadata": {},
   "outputs": [
    {
     "name": "stdout",
     "output_type": "stream",
     "text": [
      "Processing fold # 0\n",
      "Processing fold # 1\n",
      "Processing fold # 2\n",
      "Processing fold # 3\n"
     ]
    }
   ],
   "source": [
    "# Step 05: Saving the validation logs at each fold\n",
    "num_epochs= 500\n",
    "all_mae_histories= []\n",
    "for i in range(k):\n",
    "    print('Processing fold #', i)\n",
    "    val_data= train_data[i*num_val_samples:(i+1)*num_val_samples]\n",
    "    val_targets= train_targets[i*num_val_samples: (i + 1)*num_val_samples]\n",
    "    \n",
    "    partial_train_data= np.concatenate([train_data[:i*num_val_samples], train_data[(i+1)*num_val_samples:]],axis=0)\n",
    "    partial_train_targets= np.concatenate([train_targets[:i*num_val_samples], train_targets[(i+1)*num_val_samples:]], axis=0)\n",
    "    \n",
    "    model= build_model()\n",
    "    history= model.fit(partial_train_data, partial_train_targets, validation_data= (val_data, val_targets), epochs= num_epochs, batch_size= 1, verbose= 0)\n",
    "    mae_history= history.history['val_mae']\n",
    "    all_mae_histories.append(mae_history)"
   ]
  },
  {
   "cell_type": "code",
   "execution_count": 6,
   "id": "2f9f1b16",
   "metadata": {},
   "outputs": [],
   "source": [
    "# Step 06:Building the history of successive mean K-fold validation score\n",
    "average_mae_history= [np.mean([x[i] for x in all_mae_histories]) for i in range(num_epochs)]"
   ]
  },
  {
   "cell_type": "code",
   "execution_count": 7,
   "id": "c51c4b10",
   "metadata": {
    "scrolled": true
   },
   "outputs": [
    {
     "data": {
      "image/png": "[encoded data removed]",
      "text/plain": [
       "<Figure size 432x288 with 1 Axes>"
      ]
     },
     "metadata": {
      "needs_background": "light"
     },
     "output_type": "display_data"
    },
    {
     "data": {
      "image/png": "[encoded data removed]",
      "text/plain": [
       "<Figure size 432x288 with 1 Axes>"
      ]
     },
     "metadata": {
      "needs_background": "light"
     },
     "output_type": "display_data"
    }
   ],
   "source": [
    "# Step 07: Plotting validation scores\n",
    "import matplotlib.pyplot as plt\n",
    "\n",
    "plt.plot(range(1, len(average_mae_history) + 1), average_mae_history)\n",
    "plt.xlabel('Epochs')\n",
    "plt.ylabel('Validation MAR')\n",
    "plt.show()\n",
    "\n",
    "def smooth_curve(points, factor= 0.9):\n",
    "    smoothed_points= []\n",
    "    for point in points:\n",
    "        if smoothed_points:\n",
    "            previous= smoothed_points[-1]\n",
    "            smoothed_points.append(previous* factor + point* (1-factor))\n",
    "        else:\n",
    "            smoothed_points.append(point)\n",
    "    return smoothed_points\n",
    "\n",
    "smoothed_mae_history= smooth_curve(average_mae_history[10:])\n",
    "plt.plot(range(1, len(smoothed_mae_history) +1), smoothed_mae_history)\n",
    "plt.xlabel('Epochs')\n",
    "plt.ylabel('Validation MAE')\n",
    "plt.show()"
   ]
  },
  {
   "cell_type": "code",
   "execution_count": 8,
   "id": "66dfa1c3",
   "metadata": {},
   "outputs": [
    {
     "name": "stdout",
     "output_type": "stream",
     "text": [
      "4/4 [==============================] - 0s 0s/step - loss: 20.1704 - mae: 2.8921\n",
      "Mean Absolute Error of the test:  2.8920814990997314\n"
     ]
    }
   ],
   "source": [
    "# Step 08: Training the Model\n",
    "\n",
    "model= build_model()\n",
    "model.fit(train_data, train_targets, epochs=80, batch_size=16, verbose=0)\n",
    "test_mse_score, test_mae_score= model.evaluate(test_data, test_targets)\n",
    "print('Mean Absolute Error of the test: ', test_mae_score)"
   ]
  }
 ],
 "metadata": {
  "kernelspec": {
   "display_name": "Python 3",
   "language": "python",
   "name": "python3"
  },
  "language_info": {
   "codemirror_mode": {
    "name": "ipython",
    "version": 3
   },
   "file_extension": ".py",
   "mimetype": "text/x-python",
   "name": "python",
   "nbconvert_exporter": "python",
   "pygments_lexer": "ipython3",
   "version": "3.8.8"
  }
 },
 "nbformat": 4,
 "nbformat_minor": 5
}
