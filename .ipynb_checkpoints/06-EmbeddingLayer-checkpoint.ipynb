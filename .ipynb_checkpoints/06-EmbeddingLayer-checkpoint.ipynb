{
 "cells": [
  {
   "attachments": {
    "Screenshot%20%283%29.png": {
     "image/png": "[encoded data removed]"
    }
   },
   "cell_type": "markdown",
   "id": "17f50229",
   "metadata": {},
   "source": [
    "# Using Embedding Layers\n",
    "## CH6: Deep Learning for text and sequences\n",
    "### Deep Learning with Keras pg. 187\n",
    "---  \n",
    "Embedding layers (run as transformation matrix) map a string to a series of bits. \n",
    "![Screenshot%20%283%29.png](attachment:Screenshot%20%283%29.png)\n",
    "### CONTENT\n",
    "- *__Step 01:__* Load IMDB dataset\n",
    "- *__Step 02:__* Build and Train the model with *Embedding Layer*"
   ]
  },
  {
   "cell_type": "code",
   "execution_count": 9,
   "id": "a7c121b8",
   "metadata": {},
   "outputs": [],
   "source": [
    "# Step 01: Load IMDB dataset\n",
    "\n",
    "from tensorflow import keras\n",
    "from keras.datasets import imdb\n",
    "from keras import preprocessing\n",
    "\n",
    "max_features= 10000\n",
    "maxlen= 20\n",
    "\n",
    "(x_train, y_train), (x_test, y_test)= imdb.load_data(num_words= max_features)\n",
    "\n",
    "x_train= preprocessing.sequence.pad_sequences(x_train, maxlen=maxlen)\n",
    "x_test= preprocessing.sequence.pad_sequences(x_test, maxlen=maxlen)"
   ]
  },
  {
   "cell_type": "code",
   "execution_count": 10,
   "id": "972c28e7",
   "metadata": {},
   "outputs": [
    {
     "name": "stdout",
     "output_type": "stream",
     "text": [
      "Model: \"sequential_2\"\n",
      "_________________________________________________________________\n",
      "Layer (type)                 Output Shape              Param #   \n",
      "=================================================================\n",
      "embedding (Embedding)        (None, 20, 8)             80000     \n",
      "_________________________________________________________________\n",
      "flatten (Flatten)            (None, 160)               0         \n",
      "_________________________________________________________________\n",
      "dense (Dense)                (None, 1)                 161       \n",
      "=================================================================\n",
      "Total params: 80,161\n",
      "Trainable params: 80,161\n",
      "Non-trainable params: 0\n",
      "_________________________________________________________________\n",
      "Epoch 1/10\n",
      "625/625 [==============================] - 1s 1ms/step - loss: 0.6732 - acc: 0.6130 - val_loss: 0.6296 - val_acc: 0.6894\n",
      "Epoch 2/10\n",
      "625/625 [==============================] - 1s 834us/step - loss: 0.5532 - acc: 0.7471 - val_loss: 0.5332 - val_acc: 0.7248\n",
      "Epoch 3/10\n",
      "625/625 [==============================] - 0s 794us/step - loss: 0.4651 - acc: 0.7879 - val_loss: 0.5035 - val_acc: 0.7472\n",
      "Epoch 4/10\n",
      "625/625 [==============================] - 1s 841us/step - loss: 0.4211 - acc: 0.8120 - val_loss: 0.4959 - val_acc: 0.7502\n",
      "Epoch 5/10\n",
      "625/625 [==============================] - 1s 846us/step - loss: 0.3905 - acc: 0.8271 - val_loss: 0.4963 - val_acc: 0.7528\n",
      "Epoch 6/10\n",
      "625/625 [==============================] - 1s 839us/step - loss: 0.3655 - acc: 0.8406 - val_loss: 0.5004 - val_acc: 0.7536\n",
      "Epoch 7/10\n",
      "625/625 [==============================] - 0s 769us/step - loss: 0.3433 - acc: 0.8540 - val_loss: 0.5064 - val_acc: 0.7516\n",
      "Epoch 8/10\n",
      "625/625 [==============================] - 1s 855us/step - loss: 0.3230 - acc: 0.8648 - val_loss: 0.5146 - val_acc: 0.7502\n",
      "Epoch 9/10\n",
      "625/625 [==============================] - 1s 889us/step - loss: 0.3039 - acc: 0.8745 - val_loss: 0.5224 - val_acc: 0.7466\n",
      "Epoch 10/10\n",
      "625/625 [==============================] - 1s 850us/step - loss: 0.2853 - acc: 0.8827 - val_loss: 0.5331 - val_acc: 0.7428\n"
     ]
    }
   ],
   "source": [
    "# Step 02: Build and Train the model with Embedding Layer\n",
    "\n",
    "from keras.models import Sequential\n",
    "from keras.layers import Flatten, Dense, Embedding\n",
    "\n",
    "model= keras.Sequential()\n",
    "model.add(Embedding(10000, 8, input_length=maxlen))\n",
    "\n",
    "model.add(Flatten())\n",
    "\n",
    "model.add(Dense(1, activation= 'sigmoid'))\n",
    "model.compile(optimizer='rmsprop', loss= 'binary_crossentropy', metrics=['acc'])\n",
    "model.summary()\n",
    "\n",
    "history= model.fit(x_train, y_train, epochs=10, batch_size=32, validation_split=0.2)"
   ]
  }
 ],
 "metadata": {
  "kernelspec": {
   "display_name": "Python 3",
   "language": "python",
   "name": "python3"
  },
  "language_info": {
   "codemirror_mode": {
    "name": "ipython",
    "version": 3
   },
   "file_extension": ".py",
   "mimetype": "text/x-python",
   "name": "python",
   "nbconvert_exporter": "python",
   "pygments_lexer": "ipython3",
   "version": "3.8.8"
  }
 },
 "nbformat": 4,
 "nbformat_minor": 5
}
