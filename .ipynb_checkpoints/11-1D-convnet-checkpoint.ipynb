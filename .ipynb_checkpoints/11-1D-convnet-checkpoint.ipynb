{
 "cells": [
  {
   "cell_type": "markdown",
   "id": "b4e4eb5c",
   "metadata": {},
   "source": [
    "##  1D- Convnet Model\n",
    "## Ch 6. Deep Learning w/ Python\n",
    "### Gamze Keçibaş\n",
    "---\n",
    "### CONTENT\n",
    "- **Step 01.** Import libraries  \n",
    "- **Step 02.** Import dataset (IMDB dataset)  \n",
    "- **Step 03.** Building and Compiling the model\n",
    "- **Step 04.** Plotting"
   ]
  },
  {
   "cell_type": "markdown",
   "id": "ff04f853",
   "metadata": {},
   "source": [
    "#### Step 01. Import libraries"
   ]
  },
  {
   "cell_type": "code",
   "execution_count": 1,
   "id": "8ba22a04",
   "metadata": {},
   "outputs": [],
   "source": [
    "from tensorflow import keras\n",
    "import numpy as np\n",
    "import pandas as pd\n",
    "import matplotlib.pyplot as plt"
   ]
  },
  {
   "cell_type": "markdown",
   "id": "ea0642fb",
   "metadata": {},
   "source": [
    "#### Step 02. Import dataset\n",
    " - IMDB dataset is used from keras.datasets module  "
   ]
  },
  {
   "cell_type": "code",
   "execution_count": 9,
   "id": "1413e39e",
   "metadata": {},
   "outputs": [
    {
     "name": "stdout",
     "output_type": "stream",
     "text": [
      "Train sequences: 25000\n",
      "Test sequences: 25000\n",
      "\n",
      "Pad sequences (samples x time)\n",
      "x_train shape: (25000, 500)\n",
      "x_test shape: (25000, 500)\n"
     ]
    }
   ],
   "source": [
    "max_features= 10000\n",
    "max_len= 500\n",
    "\n",
    "(x_train, y_train), (x_test, y_test)= keras.datasets.imdb.load_data(num_words= max_features)\n",
    "print(\"Train sequences:\", len(x_train))\n",
    "print(\"Test sequences:\", len(x_test))\n",
    "print(\"\\nPad sequences (samples x time)\")\n",
    "x_train = keras.preprocessing.sequence.pad_sequences(x_train, maxlen= max_len)\n",
    "x_test = keras.preprocessing.sequence.pad_sequences(x_test, maxlen= max_len)\n",
    "print('x_train shape:', x_train.shape)\n",
    "print('x_test shape:', x_test.shape)"
   ]
  },
  {
   "cell_type": "markdown",
   "id": "f9f6b5b2",
   "metadata": {},
   "source": [
    "#### Step 03. Building and Compiling the model"
   ]
  },
  {
   "cell_type": "code",
   "execution_count": 14,
   "id": "75d82309",
   "metadata": {
    "scrolled": false
   },
   "outputs": [
    {
     "name": "stdout",
     "output_type": "stream",
     "text": [
      "Model: \"sequential_3\"\n",
      "_________________________________________________________________\n",
      "Layer (type)                 Output Shape              Param #   \n",
      "=================================================================\n",
      "embedding_3 (Embedding)      (None, 500, 128)          1280000   \n",
      "_________________________________________________________________\n",
      "conv1d_5 (Conv1D)            (None, 494, 32)           28704     \n",
      "_________________________________________________________________\n",
      "max_pooling1d_2 (MaxPooling1 (None, 98, 32)            0         \n",
      "_________________________________________________________________\n",
      "conv1d_6 (Conv1D)            (None, 92, 32)            7200      \n",
      "_________________________________________________________________\n",
      "global_max_pooling1d_2 (Glob (None, 32)                0         \n",
      "_________________________________________________________________\n",
      "dense_1 (Dense)              (None, 1)                 33        \n",
      "=================================================================\n",
      "Total params: 1,315,937\n",
      "Trainable params: 1,315,937\n",
      "Non-trainable params: 0\n",
      "_________________________________________________________________\n",
      "Epoch 1/10\n",
      "157/157 [==============================] - 21s 128ms/step - loss: 0.6984 - acc: 0.5414 - val_loss: 0.6842 - val_acc: 0.5492\n",
      "Epoch 2/10\n",
      "157/157 [==============================] - 20s 127ms/step - loss: 0.6586 - acc: 0.6801 - val_loss: 0.6587 - val_acc: 0.6652\n",
      "Epoch 3/10\n",
      "157/157 [==============================] - 20s 128ms/step - loss: 0.6079 - acc: 0.7713 - val_loss: 0.5930 - val_acc: 0.7566\n",
      "Epoch 4/10\n",
      "157/157 [==============================] - 20s 128ms/step - loss: 0.5035 - acc: 0.8221 - val_loss: 0.4688 - val_acc: 0.8042\n",
      "Epoch 5/10\n",
      "157/157 [==============================] - 20s 127ms/step - loss: 0.3884 - acc: 0.8579 - val_loss: 0.4131 - val_acc: 0.8428\n",
      "Epoch 6/10\n",
      "157/157 [==============================] - 20s 129ms/step - loss: 0.3267 - acc: 0.8849 - val_loss: 0.3986 - val_acc: 0.8560\n",
      "Epoch 7/10\n",
      "157/157 [==============================] - 20s 129ms/step - loss: 0.2864 - acc: 0.9014 - val_loss: 0.4150 - val_acc: 0.8620\n",
      "Epoch 8/10\n",
      "157/157 [==============================] - 20s 129ms/step - loss: 0.2547 - acc: 0.9140 - val_loss: 0.4159 - val_acc: 0.8672\n",
      "Epoch 9/10\n",
      "157/157 [==============================] - 20s 130ms/step - loss: 0.2322 - acc: 0.9251 - val_loss: 0.4357 - val_acc: 0.8690\n",
      "Epoch 10/10\n",
      "157/157 [==============================] - 20s 129ms/step - loss: 0.2096 - acc: 0.9324 - val_loss: 0.4623 - val_acc: 0.8728\n"
     ]
    }
   ],
   "source": [
    "model= keras.models.Sequential()\n",
    "model.add(keras.layers.Embedding(max_features, 128, input_length= max_len))\n",
    "model.add(keras.layers.Conv1D(32,7,activation= keras.activations.relu))\n",
    "model.add(keras.layers.MaxPooling1D(5))\n",
    "model.add(keras.layers.Conv1D(32,7,activation= keras.activations.relu))\n",
    "model.add(keras.layers.GlobalMaxPooling1D())\n",
    "model.add(keras.layers.Dense(1))\n",
    "\n",
    "model.summary()\n",
    "\n",
    "model.compile(optimizer= keras.optimizers.RMSprop(learning_rate= 1e-4), \n",
    "              loss= keras.losses.binary_crossentropy,\n",
    "              metrics= ['acc'])\n",
    "history= model.fit(x_train, y_train,\n",
    "                  epochs=10,\n",
    "                  batch_size= 128,\n",
    "                  validation_split= 0.2)"
   ]
  },
  {
   "cell_type": "markdown",
   "id": "7ee16b69",
   "metadata": {},
   "source": [
    "#### Step 04. Plotting"
   ]
  },
  {
   "cell_type": "code",
   "execution_count": 18,
   "id": "1fee662f",
   "metadata": {},
   "outputs": [
    {
     "data": {
      "image/png": "[encoded data removed]",
      "text/plain": [
       "<Figure size 432x288 with 1 Axes>"
      ]
     },
     "metadata": {
      "needs_background": "light"
     },
     "output_type": "display_data"
    },
    {
     "data": {
      "image/png": "[encoded data removed]",
      "text/plain": [
       "<Figure size 432x288 with 1 Axes>"
      ]
     },
     "metadata": {
      "needs_background": "light"
     },
     "output_type": "display_data"
    }
   ],
   "source": [
    "loss = history.history[\"loss\"]\n",
    "val_loss = history.history[\"val_loss\"]\n",
    "acc = history.history[\"acc\"]\n",
    "val_acc = history.history[\"val_acc\"]\n",
    "\n",
    "plt.figure()\n",
    "plt.plot(range(10), loss, \"bo\", label=\"Training loss\")\n",
    "plt.plot(range(10), val_loss, \"b\", label=\"Validation loss\")\n",
    "plt.title(\"Training and Validation Loss\")\n",
    "plt.xlabel(\"Epochs\")\n",
    "plt.ylabel(\"Loss\")\n",
    "plt.legend()\n",
    "plt.show()\n",
    "\n",
    "plt.figure()\n",
    "plt.plot(range(10), acc, \"ro\", label=\"Training Accuracy\")\n",
    "plt.plot(range(10), val_acc, \"r\", label=\"Validation Accuracy\")\n",
    "plt.title(\"Training and Validation Accuracy\")\n",
    "plt.xlabel(\"Epochs\")\n",
    "plt.ylabel(\"Accuracy\")\n",
    "plt.legend()\n",
    "plt.show()"
   ]
  }
 ],
 "metadata": {
  "kernelspec": {
   "display_name": "Python 3",
   "language": "python",
   "name": "python3"
  },
  "language_info": {
   "codemirror_mode": {
    "name": "ipython",
    "version": 3
   },
   "file_extension": ".py",
   "mimetype": "text/x-python",
   "name": "python",
   "nbconvert_exporter": "python",
   "pygments_lexer": "ipython3",
   "version": "3.8.8"
  }
 },
 "nbformat": 4,
 "nbformat_minor": 5
}
