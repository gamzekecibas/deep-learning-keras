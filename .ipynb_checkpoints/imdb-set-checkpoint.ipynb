{
 "cells": [
  {
   "cell_type": "markdown",
   "id": "11eda05e",
   "metadata": {},
   "source": [
    "# IMDB Binary Classification\n",
    "## Deep Learning w/ Keras\n",
    "### Deep Learning w/ Keras, Ch3.3.1 pg.68\n",
    "### Dataset: 50000(train/test (%): 50/50)"
   ]
  },
  {
   "cell_type": "code",
   "execution_count": 1,
   "id": "5b50ac2e",
   "metadata": {},
   "outputs": [],
   "source": [
    "# Step 01: Loading the IMDB dataset \n",
    "\n",
    "from tensorflow import keras\n",
    "from tensorflow.keras.datasets import imdb\n",
    "\n",
    "(train_data, train_labels), (test_data, test_labels)= imdb.load_data(num_words=10000)\n",
    "\n",
    "word_index = imdb.get_word_index()\n",
    "reverse_word_index= dict([(value, key) for (key, value) in word_index.items()])\n",
    "decoded_review= ' '.join([reverse_word_index.get(i-3, '?') for i in train_data[0]])"
   ]
  },
  {
   "cell_type": "code",
   "execution_count": 2,
   "id": "8f20dd15",
   "metadata": {},
   "outputs": [],
   "source": [
    "# Step 02: Preparing the data\n",
    "import numpy as np\n",
    "def vectorize_sequences(sequences, dimensions= 10000):\n",
    "    results = np.zeros((len(sequences), dimensions))\n",
    "    for i, sequence in enumerate(sequences):\n",
    "        results[i,sequence]=1.\n",
    "    return results\n",
    "\n",
    "x_train= vectorize_sequences(train_data)\n",
    "x_test= vectorize_sequences(test_data)\n",
    "x_train[0]\n",
    "\n",
    "y_train= np.asarray(train_labels).astype('float32')\n",
    "y_test= np.asarray(test_labels).astype('float32')"
   ]
  },
  {
   "cell_type": "code",
   "execution_count": 3,
   "id": "a04fe7e8",
   "metadata": {},
   "outputs": [],
   "source": [
    "# Step 03: Building your network\n",
    "from keras import models\n",
    "from keras import layers\n",
    "\n",
    "model= models.Sequential()\n",
    "model.add(layers.Dense(16, activation='relu', input_shape=(10000,)))\n",
    "model.add(layers.Dense(16, activation='relu'))\n",
    "model.add(layers.Dense(1, activation='sigmoid'))\n",
    "\n",
    "model.compile(optimizer= 'rmsprop', loss= 'binary_crossentropy', metrics=['accuracy'])"
   ]
  },
  {
   "cell_type": "code",
   "execution_count": 4,
   "id": "f11440ed",
   "metadata": {},
   "outputs": [],
   "source": [
    "# Using custom optimizer (?), loss & metrics\n",
    "# from keras import optimizers -> ????\n",
    "from keras import losses\n",
    "from keras import metrics\n",
    "\n",
    "model.compile(optimizer='rmsprop', loss= losses.binary_crossentropy, metrics= [metrics.binary_accuracy])"
   ]
  },
  {
   "cell_type": "code",
   "execution_count": 5,
   "id": "c257ba1b",
   "metadata": {},
   "outputs": [],
   "source": [
    "# Step 04: Validation the Approach\n",
    "x_val= x_train[:10000]\n",
    "partial_x_train= x_train[10000:]\n",
    "\n",
    "y_val= y_train[:10000]\n",
    "partial_y_train= y_train[10000:]"
   ]
  },
  {
   "cell_type": "code",
   "execution_count": 6,
   "id": "d33ffa35",
   "metadata": {},
   "outputs": [
    {
     "name": "stdout",
     "output_type": "stream",
     "text": [
      "Epoch 1/20\n",
      "30/30 [==============================] - 1s 29ms/step - loss: 0.5037 - acc: 0.7832 - val_loss: 0.3725 - val_acc: 0.8726\n",
      "Epoch 2/20\n",
      "30/30 [==============================] - 0s 15ms/step - loss: 0.2948 - acc: 0.9052 - val_loss: 0.3110 - val_acc: 0.8820\n",
      "Epoch 3/20\n",
      "30/30 [==============================] - 0s 14ms/step - loss: 0.2162 - acc: 0.9307 - val_loss: 0.2760 - val_acc: 0.8908\n",
      "Epoch 4/20\n",
      "30/30 [==============================] - 0s 15ms/step - loss: 0.1674 - acc: 0.9467 - val_loss: 0.3016 - val_acc: 0.8786\n",
      "Epoch 5/20\n",
      "30/30 [==============================] - 0s 14ms/step - loss: 0.1405 - acc: 0.9549 - val_loss: 0.2869 - val_acc: 0.8871\n",
      "Epoch 6/20\n",
      "30/30 [==============================] - 0s 14ms/step - loss: 0.1124 - acc: 0.9649 - val_loss: 0.2973 - val_acc: 0.8856\n",
      "Epoch 7/20\n",
      "30/30 [==============================] - 0s 14ms/step - loss: 0.0975 - acc: 0.9701 - val_loss: 0.3166 - val_acc: 0.8825\n",
      "Epoch 8/20\n",
      "30/30 [==============================] - 0s 14ms/step - loss: 0.0780 - acc: 0.9783 - val_loss: 0.3381 - val_acc: 0.8787\n",
      "Epoch 9/20\n",
      "30/30 [==============================] - 0s 15ms/step - loss: 0.0668 - acc: 0.9815 - val_loss: 0.3614 - val_acc: 0.8775\n",
      "Epoch 10/20\n",
      "30/30 [==============================] - 0s 14ms/step - loss: 0.0543 - acc: 0.9865 - val_loss: 0.3958 - val_acc: 0.8740\n",
      "Epoch 11/20\n",
      "30/30 [==============================] - 0s 14ms/step - loss: 0.0434 - acc: 0.9900 - val_loss: 0.4298 - val_acc: 0.8739\n",
      "Epoch 12/20\n",
      "30/30 [==============================] - 0s 15ms/step - loss: 0.0351 - acc: 0.9925 - val_loss: 0.4444 - val_acc: 0.8748\n",
      "Epoch 13/20\n",
      "30/30 [==============================] - 0s 14ms/step - loss: 0.0297 - acc: 0.9931 - val_loss: 0.4763 - val_acc: 0.8719\n",
      "Epoch 14/20\n",
      "30/30 [==============================] - 0s 15ms/step - loss: 0.0253 - acc: 0.9946 - val_loss: 0.5101 - val_acc: 0.8712\n",
      "Epoch 15/20\n",
      "30/30 [==============================] - 0s 15ms/step - loss: 0.0148 - acc: 0.9985 - val_loss: 0.6315 - val_acc: 0.8553\n",
      "Epoch 16/20\n",
      "30/30 [==============================] - 0s 15ms/step - loss: 0.0173 - acc: 0.9970 - val_loss: 0.5865 - val_acc: 0.8692\n",
      "Epoch 17/20\n",
      "30/30 [==============================] - 0s 14ms/step - loss: 0.0087 - acc: 0.9996 - val_loss: 0.6708 - val_acc: 0.8588\n",
      "Epoch 18/20\n",
      "30/30 [==============================] - 0s 15ms/step - loss: 0.0115 - acc: 0.9979 - val_loss: 0.6535 - val_acc: 0.8675\n",
      "Epoch 19/20\n",
      "30/30 [==============================] - 0s 14ms/step - loss: 0.0113 - acc: 0.9977 - val_loss: 0.6880 - val_acc: 0.8659\n",
      "Epoch 20/20\n",
      "30/30 [==============================] - 0s 14ms/step - loss: 0.0038 - acc: 0.9999 - val_loss: 0.7124 - val_acc: 0.8657\n"
     ]
    }
   ],
   "source": [
    "# Step 05: Training the Model\n",
    "model.compile(optimizer='rmsprop', loss='binary_crossentropy', metrics=['acc'])\n",
    "history= model.fit(partial_x_train, partial_y_train, epochs= 20, batch_size= 512, validation_data= (x_val, y_val))\n"
   ]
  },
  {
   "cell_type": "code",
   "execution_count": 7,
   "id": "15c003b8",
   "metadata": {},
   "outputs": [
    {
     "data": {
      "image/png": "[encoded data removed]",
      "text/plain": [
       "<Figure size 432x288 with 1 Axes>"
      ]
     },
     "metadata": {
      "needs_background": "light"
     },
     "output_type": "display_data"
    }
   ],
   "source": [
    "# Step 06: Plotting results\n",
    "import matplotlib.pyplot as plt\n",
    "history_dict= history.history\n",
    "history_dict.keys()\n",
    "\n",
    "loss_values= history_dict['loss']\n",
    "val_loss_values= history_dict['val_loss']\n",
    "\n",
    "epochs= range(1, len(history_dict['acc'])+1)\n",
    "\n",
    "plt.plot(epochs, loss_values, 'bo', label= 'Training loss')\n",
    "plt.plot(epochs, val_loss_values, 'b', label= 'Validation loss')\n",
    "plt.title('Training and validation loss')\n",
    "plt.xlabel('Epochs')\n",
    "plt.ylabel('Loss')\n",
    "plt.legend()\n",
    "\n",
    "plt.show()"
   ]
  },
  {
   "cell_type": "code",
   "execution_count": 8,
   "id": "16a9dcec",
   "metadata": {},
   "outputs": [
    {
     "data": {
      "image/png": "[encoded data removed]",
      "text/plain": [
       "<Figure size 432x288 with 1 Axes>"
      ]
     },
     "metadata": {
      "needs_background": "light"
     },
     "output_type": "display_data"
    }
   ],
   "source": [
    "plt.clf()\n",
    "acc_values= history_dict['acc']\n",
    "val_acc_values= history_dict['val_acc']\n",
    "\n",
    "plt.plot(epochs, acc_values, 'bo', label= 'Training acc')\n",
    "plt.plot(epochs, val_acc_values, 'b', label= 'Validation acc')\n",
    "plt.title('Training & Validation Accuracy')\n",
    "plt.xlabel('Epochs')\n",
    "plt.ylabel('Loss')\n",
    "plt.legend()\n",
    "\n",
    "plt.show()"
   ]
  },
  {
   "cell_type": "code",
   "execution_count": 9,
   "id": "2bd13a6f",
   "metadata": {},
   "outputs": [
    {
     "name": "stdout",
     "output_type": "stream",
     "text": [
      "Epoch 1/4\n",
      "49/49 [==============================] - 1s 10ms/step - loss: 0.4993 - accuracy: 0.7996\n",
      "Epoch 2/4\n",
      "49/49 [==============================] - 0s 10ms/step - loss: 0.2829 - accuracy: 0.9092\n",
      "Epoch 3/4\n",
      "49/49 [==============================] - 0s 10ms/step - loss: 0.2106 - accuracy: 0.9279\n",
      "Epoch 4/4\n",
      "49/49 [==============================] - 0s 10ms/step - loss: 0.1749 - accuracy: 0.9403\n",
      "782/782 [==============================] - 1s 1ms/step - loss: 0.2855 - accuracy: 0.8856\n"
     ]
    },
    {
     "data": {
      "text/plain": [
       "[0.2854500710964203, 0.8855599761009216]"
      ]
     },
     "execution_count": 9,
     "metadata": {},
     "output_type": "execute_result"
    }
   ],
   "source": [
    "# Step 07: Retraining a model from scratch\n",
    "model= models.Sequential()\n",
    "model.add(layers.Dense(16, activation= 'relu', input_shape= (10000,)))\n",
    "model.add(layers.Dense(16, activation= 'relu'))\n",
    "model.add(layers.Dense(1, activation= 'sigmoid'))\n",
    "\n",
    "model.compile(optimizer='rmsprop', loss='binary_crossentropy', metrics=['accuracy'])\n",
    "\n",
    "model.fit(x_train, y_train, epochs=4, batch_size=512)\n",
    "results= model.evaluate(x_test, y_test)\n",
    "results"
   ]
  }
 ],
 "metadata": {
  "kernelspec": {
   "display_name": "Python 3",
   "language": "python",
   "name": "python3"
  },
  "language_info": {
   "codemirror_mode": {
    "name": "ipython",
    "version": 3
   },
   "file_extension": ".py",
   "mimetype": "text/x-python",
   "name": "python",
   "nbconvert_exporter": "python",
   "pygments_lexer": "ipython3",
   "version": "3.8.8"
  }
 },
 "nbformat": 4,
 "nbformat_minor": 5
}
