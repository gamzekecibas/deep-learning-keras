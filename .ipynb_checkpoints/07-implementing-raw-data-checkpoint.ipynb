{
 "cells": [
  {
   "cell_type": "markdown",
   "id": "5029662b",
   "metadata": {},
   "source": [
    "# Using Pretrained Word Embeddings\n",
    "## CH6: Deep Learning for text and sequences\n",
    "### Deep Learning with Keras pg. 188\n",
    "---  \n",
    "\n",
    "### CONTENT\n",
    "- *__Step 01:__* Processing the raw IMDB data\n",
    "- *__Step 02:__* Tokenizing the text of raw data\n",
    "- *__Step 03:__* Parsing the GloVe word-embeddings file\n",
    "- *__Step 04:__* Preparing the GloVe word-embeddings matrix\n",
    "- *__Step 05:__* Model building\n",
    "- *__Step 06:__* Loading **pretrained** word embeddings into the *Embedding layer*\n",
    "- *__Step 07:__* Training and Evaluation\n",
    "- *__Step 08:__* Plotting\n",
    "- *__Step 09:__* Training **without pretrained** word embeddings\n",
    "- *__Step 10:__* Tokenizing of the test data\n",
    "- *__Step 11:__* Evaluating the model with test test\n",
    "#### Required files: acIImdb/ & glove.6B.100d.txt"
   ]
  },
  {
   "cell_type": "code",
   "execution_count": 1,
   "id": "448ac43f",
   "metadata": {},
   "outputs": [],
   "source": [
    "# Step 01: Processing the raw IMDB data\n",
    "\n",
    "import os\n",
    "imdb_dir= r'C:\\Users\\gkeciba1\\Desktop\\GIT\\AITOC\\deep-learning-keras\\07-implementing-raw-data\\aclImdb'\n",
    "train_dir= os.path.join(imdb_dir, 'train')\n",
    "\n",
    "labels=[]\n",
    "texts=[]\n",
    "\n",
    "for label_type in ['neg','pos']:\n",
    "    dir_name= os.path.join(train_dir, label_type)\n",
    "    for fname in os.listdir(dir_name):\n",
    "        if fname[-4:] == '.txt':\n",
    "            f= open(os.path.join(dir_name, fname), encoding='utf-8')\n",
    "            texts.append(f.read())\n",
    "            f.close()\n",
    "            if label_type == 'neg':\n",
    "                labels.append(0)\n",
    "            else:\n",
    "                labels.append(1)"
   ]
  },
  {
   "cell_type": "code",
   "execution_count": 2,
   "id": "0a7b1b2e",
   "metadata": {},
   "outputs": [
    {
     "name": "stdout",
     "output_type": "stream",
     "text": [
      "Found 88582 unique tokens.\n",
      "Shape of data tensor: (25000, 100)\n",
      "Shape of label tensor: (25000,)\n"
     ]
    }
   ],
   "source": [
    "# Step 02: Tokenizing the text of raw data\n",
    "\n",
    "from keras.preprocessing.text import Tokenizer\n",
    "from keras.preprocessing.sequence import pad_sequences\n",
    "import numpy as np\n",
    "\n",
    "maxlen=100\n",
    "training_samples= 200\n",
    "validation_samples= 10000\n",
    "max_words= 10000\n",
    "\n",
    "tokenizer= Tokenizer(num_words=max_words)\n",
    "tokenizer.fit_on_texts(texts)\n",
    "sequences= tokenizer.texts_to_sequences(texts)\n",
    "word_index= tokenizer.word_index\n",
    "print('Found %s unique tokens.' %len(word_index))\n",
    "\n",
    "data= pad_sequences(sequences, maxlen=maxlen)\n",
    "\n",
    "labels= np.asarray(labels)\n",
    "print('Shape of data tensor:', data.shape)\n",
    "print('Shape of label tensor:', labels.shape)\n",
    "\n",
    "indices= np.arange(data.shape[0])\n",
    "np.random.shuffle(indices)\n",
    "data= data[indices]\n",
    "labels= labels[indices]\n",
    "\n",
    "x_train= data[:training_samples]\n",
    "y_train= labels[:training_samples]\n",
    "x_val= data[training_samples: training_samples + validation_samples]\n",
    "y_val= labels[training_samples: training_samples + validation_samples]"
   ]
  },
  {
   "cell_type": "code",
   "execution_count": 3,
   "id": "81169e3d",
   "metadata": {},
   "outputs": [
    {
     "name": "stdout",
     "output_type": "stream",
     "text": [
      "Found 400000 word vectors.\n"
     ]
    }
   ],
   "source": [
    "# Step 03: Parsing the GloVe word-embeddings file\n",
    "\n",
    "glove_dir= r'C:\\Users\\gkeciba1\\Desktop\\GIT\\AITOC\\deep-learning-keras\\07-implementing-raw-data'\n",
    "embeddings_index={}\n",
    "\n",
    "f= open(os.path.join(glove_dir, 'glove.6B.100d.txt'), encoding='utf-8')\n",
    "for line in f:\n",
    "    values= line.split()\n",
    "    word= values[0]\n",
    "    coefs= np.asarray(values[1:], dtype='float32')\n",
    "    embeddings_index[word]= coefs\n",
    "f.close()\n",
    "\n",
    "print('Found %s word vectors.' %len(embeddings_index))"
   ]
  },
  {
   "cell_type": "code",
   "execution_count": 4,
   "id": "0ad3eb50",
   "metadata": {},
   "outputs": [],
   "source": [
    "# Step 04: Preparing the GloVe word-embeddings matrix\n",
    "\n",
    "embedding_dim= 100\n",
    "embedding_matrix= np.zeros((max_words, embedding_dim))\n",
    "for word, i in word_index.items():\n",
    "    if i < max_words:\n",
    "        embedding_vector = embeddings_index.get(word)\n",
    "        if embedding_vector is not None:\n",
    "            embedding_matrix[i]= embedding_vector"
   ]
  },
  {
   "cell_type": "code",
   "execution_count": 10,
   "id": "9aa0d03a",
   "metadata": {},
   "outputs": [
    {
     "name": "stdout",
     "output_type": "stream",
     "text": [
      "Model: \"sequential\"\n",
      "_________________________________________________________________\n",
      "Layer (type)                 Output Shape              Param #   \n",
      "=================================================================\n",
      "embedding_1 (Embedding)      (None, 100, 100)          1000000   \n",
      "_________________________________________________________________\n",
      "flatten (Flatten)            (None, 10000)             0         \n",
      "_________________________________________________________________\n",
      "dense (Dense)                (None, 32)                320032    \n",
      "_________________________________________________________________\n",
      "dense_1 (Dense)              (None, 1)                 33        \n",
      "=================================================================\n",
      "Total params: 1,320,065\n",
      "Trainable params: 1,320,065\n",
      "Non-trainable params: 0\n",
      "_________________________________________________________________\n"
     ]
    }
   ],
   "source": [
    "# Step 05: Model building\n",
    "# Step 06: Loading pretrained word embeddings into the Embedding layer\n",
    "\n",
    "from tensorflow import keras\n",
    "\n",
    "\"\"\"\n",
    "model= Sequential()\n",
    "model.add(Embedding(max_words, embedding_dim, input_length=maxlen))\n",
    "model.add(Flatten())\n",
    "model.add(Dense(32, activation='relu'))\n",
    "\n",
    "\n",
    "\"\"\"\n",
    "\"\"\"\n",
    "layers = [Dense(10) for _ in range(100)]\n",
    "instead of: \n",
    "Dense(32, activation=keras.activations.relu),\n",
    "Dense(1, activation=keras.activations.sigmoid) ->     *layers in Sequential()\n",
    "\n",
    "\"\"\"\n",
    "\n",
    "model=keras.Sequential([\n",
    "    keras.layers.Embedding(max_words, embedding_dim, input_length=maxlen),\n",
    "    keras.layers.Flatten(),\n",
    "    keras.layers.Dense(32, activation=keras.activations.relu),\n",
    "    keras.layers.Dense(1, activation=keras.activations.sigmoid)\n",
    "\n",
    "])\n",
    "model.summary()\n",
    "model.layers[0].set_weights([embedding_matrix])\n",
    "model.layers[0].trainable= False #Freeze Embedding layer"
   ]
  },
  {
   "cell_type": "code",
   "execution_count": 11,
   "id": "64407e09",
   "metadata": {
    "scrolled": true
   },
   "outputs": [
    {
     "name": "stdout",
     "output_type": "stream",
     "text": [
      "Epoch 1/10\n",
      "7/7 [==============================] - 1s 86ms/step - loss: 1.8969 - acc: 0.4600 - val_loss: 0.6929 - val_acc: 0.5017\n",
      "Epoch 2/10\n",
      "7/7 [==============================] - 0s 62ms/step - loss: 0.6635 - acc: 0.5900 - val_loss: 0.7388 - val_acc: 0.5000\n",
      "Epoch 3/10\n",
      "7/7 [==============================] - 0s 71ms/step - loss: 0.5685 - acc: 0.7300 - val_loss: 0.7197 - val_acc: 0.5253\n",
      "Epoch 4/10\n",
      "7/7 [==============================] - 0s 66ms/step - loss: 0.4243 - acc: 0.7450 - val_loss: 0.8035 - val_acc: 0.5122\n",
      "Epoch 5/10\n",
      "7/7 [==============================] - 0s 69ms/step - loss: 0.3579 - acc: 0.8500 - val_loss: 0.7243 - val_acc: 0.5426\n",
      "Epoch 6/10\n",
      "7/7 [==============================] - 0s 71ms/step - loss: 0.1665 - acc: 0.9850 - val_loss: 0.7369 - val_acc: 0.5593\n",
      "Epoch 7/10\n",
      "7/7 [==============================] - 0s 67ms/step - loss: 0.1767 - acc: 0.9550 - val_loss: 1.2187 - val_acc: 0.5012\n",
      "Epoch 8/10\n",
      "7/7 [==============================] - 0s 70ms/step - loss: 0.2013 - acc: 0.9150 - val_loss: 0.7389 - val_acc: 0.5571\n",
      "Epoch 9/10\n",
      "7/7 [==============================] - 0s 68ms/step - loss: 0.0608 - acc: 1.0000 - val_loss: 0.7833 - val_acc: 0.5581\n",
      "Epoch 10/10\n",
      "7/7 [==============================] - 0s 65ms/step - loss: 0.0698 - acc: 0.9950 - val_loss: 1.7071 - val_acc: 0.4989\n"
     ]
    }
   ],
   "source": [
    "# Step 07: Training and Evaluation\n",
    "\n",
    "model.compile(optimizer='rmsprop', loss='binary_crossentropy', metrics=['acc'])\n",
    "history= model.fit(x_train, y_train, epochs=10, batch_size= 32,\n",
    "                  validation_data= (x_val, y_val))\n",
    "model.save_weights('pre_trained_glove_model_.h5')"
   ]
  },
  {
   "cell_type": "code",
   "execution_count": 12,
   "id": "c359ed67",
   "metadata": {
    "scrolled": true
   },
   "outputs": [
    {
     "data": {
      "image/png": "[encoded data removed]",
      "text/plain": [
       "<Figure size 432x288 with 1 Axes>"
      ]
     },
     "metadata": {
      "needs_background": "light"
     },
     "output_type": "display_data"
    },
    {
     "data": {
      "image/png": "[encoded data removed]",
      "text/plain": [
       "<Figure size 432x288 with 1 Axes>"
      ]
     },
     "metadata": {
      "needs_background": "light"
     },
     "output_type": "display_data"
    }
   ],
   "source": [
    "# Step 08: Plotting\n",
    "\n",
    "import matplotlib.pyplot as plt\n",
    "acc= history.history['acc']\n",
    "val_acc= history.history['val_acc']\n",
    "loss= history.history['loss']\n",
    "val_loss= history.history['val_loss']\n",
    "\n",
    "epochs= range(1, len(acc)+1 )\n",
    "plt.plot(epochs, acc,'bo', label='Training Acc')\n",
    "plt.plot(epochs, val_acc, 'b', label='Validation Acc')\n",
    "plt.title('Training and Validation Accuracy')\n",
    "plt.legend()\n",
    "\n",
    "plt.figure()\n",
    "plt.plot(epochs, loss, 'ro', label='Training loss')\n",
    "plt.plot(epochs, val_loss, 'r', label='Validation loss')\n",
    "plt.legend()\n",
    "plt.show()"
   ]
  },
  {
   "cell_type": "markdown",
   "id": "d28a9ccd",
   "metadata": {},
   "source": [
    "QUICK OVERFITTING!\n",
    "- A few training samples (200 samples)  \n",
    "    **and** frozen layer & pretrained word embeddings.\n",
    "---\n",
    "- __TRAINING without PREtrained word embeddings ↓__"
   ]
  },
  {
   "cell_type": "code",
   "execution_count": 14,
   "id": "8bd4d039",
   "metadata": {
    "scrolled": true
   },
   "outputs": [
    {
     "name": "stdout",
     "output_type": "stream",
     "text": [
      "Model: \"sequential_2\"\n",
      "_________________________________________________________________\n",
      "Layer (type)                 Output Shape              Param #   \n",
      "=================================================================\n",
      "embedding_2 (Embedding)      (None, 100, 100)          1000000   \n",
      "_________________________________________________________________\n",
      "flatten_1 (Flatten)          (None, 10000)             0         \n",
      "_________________________________________________________________\n",
      "dense_2 (Dense)              (None, 32)                320032    \n",
      "_________________________________________________________________\n",
      "dense_3 (Dense)              (None, 1)                 33        \n",
      "=================================================================\n",
      "Total params: 1,320,065\n",
      "Trainable params: 1,320,065\n",
      "Non-trainable params: 0\n",
      "_________________________________________________________________\n",
      "Epoch 1/10\n",
      "7/7 [==============================] - 1s 99ms/step - loss: 0.6986 - acc: 0.4650 - val_loss: 0.6911 - val_acc: 0.5251\n",
      "Epoch 2/10\n",
      "7/7 [==============================] - 1s 88ms/step - loss: 0.5354 - acc: 0.9550 - val_loss: 0.6909 - val_acc: 0.5302\n",
      "Epoch 3/10\n",
      "7/7 [==============================] - 1s 85ms/step - loss: 0.3344 - acc: 0.9950 - val_loss: 0.6935 - val_acc: 0.5254\n",
      "Epoch 4/10\n",
      "7/7 [==============================] - 0s 81ms/step - loss: 0.1547 - acc: 1.0000 - val_loss: 0.6982 - val_acc: 0.5262\n",
      "Epoch 5/10\n",
      "7/7 [==============================] - 1s 84ms/step - loss: 0.0731 - acc: 1.0000 - val_loss: 0.6993 - val_acc: 0.5270\n",
      "Epoch 6/10\n",
      "7/7 [==============================] - 1s 83ms/step - loss: 0.0368 - acc: 1.0000 - val_loss: 0.7021 - val_acc: 0.5315\n",
      "Epoch 7/10\n",
      "7/7 [==============================] - 1s 83ms/step - loss: 0.0202 - acc: 1.0000 - val_loss: 0.7071 - val_acc: 0.5314\n",
      "Epoch 8/10\n",
      "7/7 [==============================] - 0s 77ms/step - loss: 0.0117 - acc: 1.0000 - val_loss: 0.7125 - val_acc: 0.5305\n",
      "Epoch 9/10\n",
      "7/7 [==============================] - 0s 71ms/step - loss: 0.0070 - acc: 1.0000 - val_loss: 0.7142 - val_acc: 0.5322\n",
      "Epoch 10/10\n",
      "7/7 [==============================] - 0s 76ms/step - loss: 0.0042 - acc: 1.0000 - val_loss: 0.7196 - val_acc: 0.5297\n"
     ]
    },
    {
     "data": {
      "image/png": "[encoded data removed]",
      "text/plain": [
       "<Figure size 432x288 with 1 Axes>"
      ]
     },
     "metadata": {
      "needs_background": "light"
     },
     "output_type": "display_data"
    },
    {
     "data": {
      "image/png": "[encoded data removed]",
      "text/plain": [
       "<Figure size 432x288 with 1 Axes>"
      ]
     },
     "metadata": {
      "needs_background": "light"
     },
     "output_type": "display_data"
    }
   ],
   "source": [
    "# Step 09: Training without pretrained word embeddings\n",
    "\n",
    "model1= keras.Sequential()\n",
    "model1.add(keras.layers.Embedding(max_words, embedding_dim, input_length= maxlen))\n",
    "model1.add(keras.layers.Flatten())\n",
    "model1.add(keras.layers.Dense(32, activation=keras.activations.relu))\n",
    "model1.add(keras.layers.Dense(1, activation=keras.activations.sigmoid))\n",
    "model1.summary()\n",
    "\n",
    "model1.compile(optimizer='rmsprop', loss='binary_crossentropy', metrics=['acc'])\n",
    "history1= model1.fit(x_train, y_train, epochs=10, batch_size=32, validation_data= (x_val, y_val))\n",
    "\n",
    "acc1= history1.history['acc']\n",
    "val_acc1= history1.history['val_acc']\n",
    "loss1= history1.history['loss']\n",
    "val_loss1= history1.history['val_loss']\n",
    "\n",
    "plt.plot(epochs, acc1,'bo', label='NEW Training Acc')\n",
    "plt.plot(epochs, val_acc1, 'b', label='NEW Validation Acc')\n",
    "plt.title('NEW Training and Validation Accuracy')\n",
    "plt.legend()\n",
    "\n",
    "plt.figure()\n",
    "plt.plot(epochs, loss1, 'ro', label='NEW Training loss')\n",
    "plt.plot(epochs, val_loss1, 'r', label='NEW Validation loss')\n",
    "plt.legend()\n",
    "plt.show()"
   ]
  },
  {
   "cell_type": "code",
   "execution_count": 16,
   "id": "7b2240fc",
   "metadata": {},
   "outputs": [],
   "source": [
    "# Step 10: Tokenizing of the test data\n",
    "\n",
    "test_dir= os.path.join(imdb_dir, 'test')\n",
    "\n",
    "labels=[]\n",
    "texts=[]\n",
    "\n",
    "for label_type in ['neg','pos']:\n",
    "    dir_name= os.path.join(test_dir, label_type)\n",
    "    for fname in sorted(os.listdir(dir_name)):\n",
    "        if fname[-4:] == '.txt':\n",
    "            f= open(os.path.join(dir_name, fname), encoding='utf-8')\n",
    "            texts.append(f.read())\n",
    "            f.close()\n",
    "            if label_type == 'neg':\n",
    "                labels.append(0)\n",
    "            else:\n",
    "                labels.append(1)\n",
    "sequences= tokenizer.texts_to_sequences(texts)\n",
    "x_test= pad_sequences(sequences, maxlen=maxlen)\n",
    "y_test= np.asarray(labels)"
   ]
  },
  {
   "cell_type": "code",
   "execution_count": 18,
   "id": "e9e26848",
   "metadata": {},
   "outputs": [
    {
     "name": "stdout",
     "output_type": "stream",
     "text": [
      "782/782 [==============================] - 1s 2ms/step - loss: 1.7187 - acc: 0.5004\n"
     ]
    },
    {
     "data": {
      "text/plain": [
       "[1.7187379598617554, 0.5003600120544434]"
      ]
     },
     "execution_count": 18,
     "metadata": {},
     "output_type": "execute_result"
    }
   ],
   "source": [
    "# Step 11: Evaluating the model with test test\n",
    "\n",
    "model.load_weights('pre_trained_glove_model_.h5')\n",
    "model.evaluate(x_test, y_test)"
   ]
  }
 ],
 "metadata": {
  "kernelspec": {
   "display_name": "Python 3",
   "language": "python",
   "name": "python3"
  },
  "language_info": {
   "codemirror_mode": {
    "name": "ipython",
    "version": 3
   },
   "file_extension": ".py",
   "mimetype": "text/x-python",
   "name": "python",
   "nbconvert_exporter": "python",
   "pygments_lexer": "ipython3",
   "version": "3.8.8"
  }
 },
 "nbformat": 4,
 "nbformat_minor": 5
}
