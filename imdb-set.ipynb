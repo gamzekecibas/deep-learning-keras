{
 "cells": [
  {
   "cell_type": "markdown",
   "id": "11eda05e",
   "metadata": {},
   "source": [
    "# IMDB Binary Classification\n",
    "## Deep Learning w/ Keras\n",
    "### Deep Learning w/ Keras, Ch3.3.1 pg.68\n",
    "### Dataset: 50000(train/test (%): 50/50)"
   ]
  },
  {
   "cell_type": "code",
   "execution_count": null,
   "id": "5b50ac2e",
   "metadata": {},
   "outputs": [],
   "source": [
    "# Step 01: Loading the IMDB dataset \n",
    "\n",
    "from tensorflow import keras\n",
    "from tensorflow.keras.datasets import imdb\n",
    "\n",
    "(train_data, train_labels), (test_data, test_labels)= imdb.load_data(num_words=10000)\n",
    "\n",
    "word_index = imdb.get_word_index()\n",
    "reverse_word_index= dict([(value, key) for (key, value) in word_index.items()])\n",
    "decoded_review= ' '.join([reverse_word_index.get(i-3, '?') for i in train_data[0]])"
   ]
  },
  {
   "cell_type": "code",
   "execution_count": null,
   "id": "8f20dd15",
   "metadata": {},
   "outputs": [],
   "source": [
    "# Step 02: Preparing the data\n",
    "import numpy as np\n",
    "def vectorize_sequences(sequences, dimensions= 10000):\n",
    "    results = np.zeros((len(sequences), dimensions))\n",
    "    for i, sequence in enumerate(sequences):\n",
    "        results[i,sequence]=1.\n",
    "    return results\n",
    "\n",
    "x_train= vectorize_sequences(train_data)\n",
    "x_test= vectorize_sequences(test_data)\n",
    "x_train[0]\n",
    "\n",
    "y_train= np.asarray(train_labels).astype('float32')\n",
    "y_test= np.asarray(test_labels).astype('float32')"
   ]
  },
  {
   "cell_type": "code",
   "execution_count": null,
   "id": "a04fe7e8",
   "metadata": {},
   "outputs": [],
   "source": [
    "# Step 03: Building your network\n",
    "from keras import models\n",
    "from keras import layers\n",
    "\n",
    "model= models.Sequential()\n",
    "model.add(layers.Dense(16, activation='relu', input_shape=(10000,)))\n",
    "model.add(layers.Dense(16, activation='relu'))\n",
    "model.add(layers.Dense(1, activation='sigmoid'))\n",
    "\n",
    "model.compile(optimizer= 'rmsprop', loss= 'binary_crossentropy', metrics=['accuracy'])"
   ]
  },
  {
   "cell_type": "code",
   "execution_count": null,
   "id": "f11440ed",
   "metadata": {},
   "outputs": [],
   "source": [
    "# Using custom optimizer (?), loss & metrics\n",
    "# from keras import optimizers -> ????\n",
    "from keras import losses\n",
    "from keras import metrics\n",
    "\n",
    "model.compile(optimizer='rmsprop', loss= losses.binary_crossentropy, metrics= [metrics.binary_accuracy])"
   ]
  },
  {
   "cell_type": "code",
   "execution_count": null,
   "id": "c257ba1b",
   "metadata": {},
   "outputs": [],
   "source": [
    "# Step 04: Validation the Approach\n",
    "x_val= x_train[:10000]\n",
    "partial_x_train= x_train[10000:]\n",
    "\n",
    "y_val= y_train[:10000]\n",
    "partial_y_train= y_train[10000:]"
   ]
  },
  {
   "cell_type": "code",
   "execution_count": null,
   "id": "d33ffa35",
   "metadata": {},
   "outputs": [],
   "source": [
    "# Step 05: Training the Model\n",
    "model.compile(optimizer='rmsprop', loss='binary_crossentropy', metrics=['acc'])\n",
    "history= model.fit(partial_x_train, partial_y_train, epochs= 20, batch_size= 512, validation_data= (x_val, y_val))\n"
   ]
  },
  {
   "cell_type": "code",
   "execution_count": null,
   "id": "15c003b8",
   "metadata": {},
   "outputs": [],
   "source": [
    "# Step 06: Plotting results\n",
    "import matplotlib.pyplot as plt\n",
    "history_dict= history.history\n",
    "history_dict.keys()\n",
    "\n",
    "loss_values= history_dict['loss']\n",
    "val_loss_values= history_dict['val_loss']\n",
    "\n",
    "epochs= range(1, len(history_dict['acc'])+1)\n",
    "\n",
    "plt.plot(epochs, loss_values, 'bo', label= 'Training loss')\n",
    "plt.plot(epochs, val_loss_values, 'b', label= 'Validation loss')\n",
    "plt.title('Training and validation loss')\n",
    "plt.xlabel('Epochs')\n",
    "plt.ylabel('Loss')\n",
    "plt.legend()\n",
    "\n",
    "plt.show()"
   ]
  },
  {
   "cell_type": "code",
   "execution_count": null,
   "id": "16a9dcec",
   "metadata": {},
   "outputs": [],
   "source": [
    "plt.clf()\n",
    "acc_values= history_dict['acc']\n",
    "val_acc_values= history_dict['val_acc']\n",
    "\n",
    "plt.plot(epochs, acc_values, 'bo', label= 'Training acc')\n",
    "plt.plot(epochs, val_acc_values, 'b', label= 'Validation acc')\n",
    "plt.title('Training & Validation Accuracy')\n",
    "plt.xlabel('Epochs')\n",
    "plt.ylabel('Loss')\n",
    "plt.legend()\n",
    "\n",
    "plt.show()"
   ]
  },
  {
   "cell_type": "code",
   "execution_count": null,
   "id": "2bd13a6f",
   "metadata": {},
   "outputs": [],
   "source": [
    "# Step 07: Retraining a model from scratch\n",
    "model= models.Sequential()\n",
    "model.add(layers.Dense(16, activation= 'relu', input_shape= (10000,)))\n",
    "model.add(layers.Dense(16, activation= 'relu'))\n",
    "model.add(layers.Dense(1, activation= 'sigmoid'))\n",
    "\n",
    "model.compile(optimizer='rmsprop', loss='binary_crossentropy', metrics=['accuracy'])\n",
    "\n",
    "model.fit(x_train, y_train, epochs=4, batch_size=512)\n",
    "results= model.evaluate(x_test, y_test)\n",
    "results"
   ]
  }
 ],
 "metadata": {
  "kernelspec": {
   "display_name": "Python 3",
   "language": "python",
   "name": "python3"
  },
  "language_info": {
   "codemirror_mode": {
    "name": "ipython",
    "version": 3
   },
   "file_extension": ".py",
   "mimetype": "text/x-python",
   "name": "python",
   "nbconvert_exporter": "python",
   "pygments_lexer": "ipython3",
   "version": "3.8.8"
  }
 },
 "nbformat": 4,
 "nbformat_minor": 5
}
