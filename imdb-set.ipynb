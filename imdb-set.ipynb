{
 "cells": [
  {
   "cell_type": "markdown",
   "id": "11eda05e",
   "metadata": {},
   "source": [
    "# IMDB Binary Classification\n",
    "## Deep Learning w/ Keras\n",
    "### Deep Learning w/ Keras_ Ch3.3.1 pg.68\n",
    "### Dataset: 50000(train/test (%): 50/50)"
   ]
  },
  {
   "cell_type": "code",
   "execution_count": 2,
   "id": "5b50ac2e",
   "metadata": {},
   "outputs": [],
   "source": [
    "# Step 01: Loading the IMDB dataset \n",
    "\n",
    "from tensorflow import keras\n",
    "from tensorflow.keras.datasets import imdb\n",
    "\n",
    "(train_data, train_labels), (test_data, test_labels)= imdb.load_data(num_words=10000)\n",
    "\n",
    "word_index = imdb.get_word_index()\n",
    "reverse_word_index= dict([(value, key) for (key, value) in word_index.items()])\n",
    "decoded_review= ' '.join([reverse_word_index.get(i-3, '?') for i in train_data[0]])"
   ]
  },
  {
   "cell_type": "code",
   "execution_count": 3,
   "id": "8f20dd15",
   "metadata": {},
   "outputs": [],
   "source": [
    "# Step 02: Preparing the data\n",
    "import numpy as np\n",
    "def vectorize_sequences(sequences, dimensions= 10000):\n",
    "    results = np.zeros((len(sequences), dimensions))\n",
    "    for i, sequence in enumerate(sequences):\n",
    "        results[i,sequence]=1.\n",
    "    return results\n",
    "\n",
    "x_train= vectorize_sequences(train_data)\n",
    "x_test= vectorize_sequences(test_data)\n",
    "x_train[0]\n",
    "\n",
    "y_train= np.asarray(train_labels).astype('float32')\n",
    "y_test= np.asarray(test_labels).astype('float32')"
   ]
  },
  {
   "cell_type": "code",
   "execution_count": 4,
   "id": "a04fe7e8",
   "metadata": {},
   "outputs": [],
   "source": [
    "# Step 03: Building your network\n",
    "from keras import models\n",
    "from keras import layers\n",
    "\n",
    "model= models.Sequential()\n",
    "model.add(layers.Dense(16, activation='relu', input_shape=(10000,)))\n",
    "model.add(layers.Dense(16, activation='relu'))\n",
    "model.add(layers.Dense(1, activation='sigmoid'))\n",
    "\n",
    "model.compile(optimizer= 'rmsprop', loss= 'binary_crossentropy', metrics=['accuracy'])"
   ]
  },
  {
   "cell_type": "code",
   "execution_count": 5,
   "id": "f11440ed",
   "metadata": {},
   "outputs": [],
   "source": [
    "# Using custom optimizer (?), loss & metrics\n",
    "# from keras import optimizers -> ????\n",
    "from keras import losses\n",
    "from keras import metrics\n",
    "\n",
    "model.compile(optimizer='rmsprop', loss= losses.binary_crossentropy, metrics= [metrics.binary_accuracy])"
   ]
  },
  {
   "cell_type": "code",
   "execution_count": 6,
   "id": "c257ba1b",
   "metadata": {},
   "outputs": [],
   "source": [
    "# Step 04: Validation the Approach\n",
    "x_val= x_train[:10000]\n",
    "partial_x_train= x_train[10000:]\n",
    "\n",
    "y_val= y_train[:10000]\n",
    "partial_y_train= y_train[10000:]"
   ]
  },
  {
   "cell_type": "code",
   "execution_count": 7,
   "id": "d33ffa35",
   "metadata": {},
   "outputs": [
    {
     "name": "stdout",
     "output_type": "stream",
     "text": [
      "Epoch 1/20\n",
      "30/30 [==============================] - 1s 31ms/step - loss: 0.4961 - acc: 0.7916 - val_loss: 0.3868 - val_acc: 0.8412\n",
      "Epoch 2/20\n",
      "30/30 [==============================] - 0s 16ms/step - loss: 0.2866 - acc: 0.9039 - val_loss: 0.3351 - val_acc: 0.8649\n",
      "Epoch 3/20\n",
      "30/30 [==============================] - 0s 16ms/step - loss: 0.2103 - acc: 0.9303 - val_loss: 0.2930 - val_acc: 0.8816\n",
      "Epoch 4/20\n",
      "30/30 [==============================] - 0s 15ms/step - loss: 0.1665 - acc: 0.9439 - val_loss: 0.2762 - val_acc: 0.8910\n",
      "Epoch 5/20\n",
      "30/30 [==============================] - 0s 15ms/step - loss: 0.1316 - acc: 0.9575 - val_loss: 0.3098 - val_acc: 0.8825\n",
      "Epoch 6/20\n",
      "30/30 [==============================] - 0s 16ms/step - loss: 0.1096 - acc: 0.9651 - val_loss: 0.3143 - val_acc: 0.8787\n",
      "Epoch 7/20\n",
      "30/30 [==============================] - 0s 15ms/step - loss: 0.0946 - acc: 0.9699 - val_loss: 0.3220 - val_acc: 0.8823\n",
      "Epoch 8/20\n",
      "30/30 [==============================] - 0s 16ms/step - loss: 0.0748 - acc: 0.9780 - val_loss: 0.3470 - val_acc: 0.8824\n",
      "Epoch 9/20\n",
      "30/30 [==============================] - 0s 17ms/step - loss: 0.0591 - acc: 0.9845 - val_loss: 0.3868 - val_acc: 0.8778\n",
      "Epoch 10/20\n",
      "30/30 [==============================] - 0s 17ms/step - loss: 0.0485 - acc: 0.9889 - val_loss: 0.4040 - val_acc: 0.8750\n",
      "Epoch 11/20\n",
      "30/30 [==============================] - 0s 16ms/step - loss: 0.0455 - acc: 0.9877 - val_loss: 0.4300 - val_acc: 0.8723\n",
      "Epoch 12/20\n",
      "30/30 [==============================] - 0s 16ms/step - loss: 0.0313 - acc: 0.9933 - val_loss: 0.4576 - val_acc: 0.8739\n",
      "Epoch 13/20\n",
      "30/30 [==============================] - 0s 16ms/step - loss: 0.0261 - acc: 0.9945 - val_loss: 0.5019 - val_acc: 0.8692\n",
      "Epoch 14/20\n",
      "30/30 [==============================] - 0s 16ms/step - loss: 0.0236 - acc: 0.9948 - val_loss: 0.5269 - val_acc: 0.8735\n",
      "Epoch 15/20\n",
      "30/30 [==============================] - 0s 17ms/step - loss: 0.0182 - acc: 0.9965 - val_loss: 0.5603 - val_acc: 0.8717\n",
      "Epoch 16/20\n",
      "30/30 [==============================] - 0s 16ms/step - loss: 0.0118 - acc: 0.9988 - val_loss: 0.5858 - val_acc: 0.8700\n",
      "Epoch 17/20\n",
      "30/30 [==============================] - 0s 16ms/step - loss: 0.0105 - acc: 0.9988 - val_loss: 0.6251 - val_acc: 0.8665\n",
      "Epoch 18/20\n",
      "30/30 [==============================] - 0s 16ms/step - loss: 0.0083 - acc: 0.9993 - val_loss: 0.6635 - val_acc: 0.8655\n",
      "Epoch 19/20\n",
      "30/30 [==============================] - 0s 16ms/step - loss: 0.0101 - acc: 0.9979 - val_loss: 0.6890 - val_acc: 0.8660\n",
      "Epoch 20/20\n",
      "30/30 [==============================] - 0s 16ms/step - loss: 0.0039 - acc: 0.9999 - val_loss: 0.7282 - val_acc: 0.8656\n"
     ]
    }
   ],
   "source": [
    "# Step 05: Training the Model\n",
    "model.compile(optimizer='rmsprop', loss='binary_crossentropy', metrics=['acc'])\n",
    "history= model.fit(partial_x_train, partial_y_train, epochs= 20, batch_size= 512, validation_data= (x_val, y_val))\n"
   ]
  },
  {
   "cell_type": "code",
   "execution_count": 8,
   "id": "15c003b8",
   "metadata": {},
   "outputs": [
    {
     "data": {
      "image/png": "[encoded data removed]",
      "text/plain": [
       "<Figure size 432x288 with 1 Axes>"
      ]
     },
     "metadata": {
      "needs_background": "light"
     },
     "output_type": "display_data"
    }
   ],
   "source": [
    "# Step 06: Plotting results\n",
    "import matplotlib.pyplot as plt\n",
    "history_dict= history.history\n",
    "history_dict.keys()\n",
    "\n",
    "loss_values= history_dict['loss']\n",
    "val_loss_values= history_dict['val_loss']\n",
    "\n",
    "epochs= range(1, len(history_dict['acc'])+1)\n",
    "\n",
    "plt.plot(epochs, loss_values, 'bo', label= 'Training loss')\n",
    "plt.plot(epochs, val_loss_values, 'b', label= 'Validation loss')\n",
    "plt.title('Training and validation loss')\n",
    "plt.xlabel('Epochs')\n",
    "plt.ylabel('Loss')\n",
    "plt.legend()\n",
    "\n",
    "plt.show()"
   ]
  },
  {
   "cell_type": "code",
   "execution_count": 9,
   "id": "16a9dcec",
   "metadata": {},
   "outputs": [
    {
     "data": {
      "image/png": "[encoded data removed]",
      "text/plain": [
       "<Figure size 432x288 with 1 Axes>"
      ]
     },
     "metadata": {
      "needs_background": "light"
     },
     "output_type": "display_data"
    }
   ],
   "source": [
    "plt.clf()\n",
    "acc_values= history_dict['acc']\n",
    "val_acc_values= history_dict['val_acc']\n",
    "\n",
    "plt.plot(epochs, acc_values, 'bo', label= 'Training acc')\n",
    "plt.plot(epochs, val_acc_values, 'b', label= 'Validation acc')\n",
    "plt.title('Training & Validation Accuracy')\n",
    "plt.xlabel('Epochs')\n",
    "plt.ylabel('Loss')\n",
    "plt.legend()\n",
    "\n",
    "plt.show()"
   ]
  },
  {
   "cell_type": "code",
   "execution_count": 10,
   "id": "2bd13a6f",
   "metadata": {},
   "outputs": [
    {
     "name": "stdout",
     "output_type": "stream",
     "text": [
      "Epoch 1/4\n",
      "49/49 [==============================] - 1s 11ms/step - loss: 0.4473 - accuracy: 0.8182\n",
      "Epoch 2/4\n",
      "49/49 [==============================] - 1s 11ms/step - loss: 0.2537 - accuracy: 0.9102\n",
      "Epoch 3/4\n",
      "49/49 [==============================] - 1s 11ms/step - loss: 0.1976 - accuracy: 0.9283\n",
      "Epoch 4/4\n",
      "49/49 [==============================] - 1s 10ms/step - loss: 0.1666 - accuracy: 0.9406\n",
      "782/782 [==============================] - 1s 1ms/step - loss: 0.2951 - accuracy: 0.8833\n"
     ]
    },
    {
     "data": {
      "text/plain": [
       "[0.2951006293296814, 0.8832799792289734]"
      ]
     },
     "execution_count": 10,
     "metadata": {},
     "output_type": "execute_result"
    }
   ],
   "source": [
    "# Step 07: Retraining a model from scratch\n",
    "model= models.Sequential()\n",
    "model.add(layers.Dense(16, activation= 'relu', input_shape= (10000,)))\n",
    "model.add(layers.Dense(16, activation= 'relu'))\n",
    "model.add(layers.Dense(1, activation= 'sigmoid'))\n",
    "\n",
    "model.compile(optimizer='rmsprop', loss='binary_crossentropy', metrics=['accuracy'])\n",
    "\n",
    "model.fit(x_train, y_train, epochs=4, batch_size=512)\n",
    "results= model.evaluate(x_test, y_test)\n",
    "results"
   ]
  },
  {
   "cell_type": "code",
   "execution_count": 29,
   "id": "188246d5",
   "metadata": {},
   "outputs": [
    {
     "name": "stdout",
     "output_type": "stream",
     "text": [
      "LARGER MODEL\n",
      "\n",
      "Epoch 1/20\n",
      "30/30 [==============================] - 3s 91ms/step - loss: 0.5405 - acc: 0.7577 - val_loss: 0.3286 - val_acc: 0.8822\n",
      "Epoch 2/20\n",
      "30/30 [==============================] - 2s 81ms/step - loss: 0.2558 - acc: 0.9047 - val_loss: 0.2739 - val_acc: 0.8858\n",
      "Epoch 3/20\n",
      "30/30 [==============================] - 3s 87ms/step - loss: 0.1443 - acc: 0.9456 - val_loss: 0.2962 - val_acc: 0.8837\n",
      "Epoch 4/20\n",
      "30/30 [==============================] - 3s 85ms/step - loss: 0.0767 - acc: 0.9739 - val_loss: 0.4111 - val_acc: 0.8798\n",
      "Epoch 5/20\n",
      "30/30 [==============================] - 2s 83ms/step - loss: 0.0853 - acc: 0.9768 - val_loss: 0.3244 - val_acc: 0.8841\n",
      "Epoch 6/20\n",
      "30/30 [==============================] - 2s 79ms/step - loss: 0.0049 - acc: 0.9996 - val_loss: 0.5181 - val_acc: 0.8880\n",
      "Epoch 7/20\n",
      "30/30 [==============================] - 2s 78ms/step - loss: 5.2304e-04 - acc: 1.0000 - val_loss: 0.6336 - val_acc: 0.8834\n",
      "Epoch 8/20\n",
      "30/30 [==============================] - 2s 81ms/step - loss: 8.5355e-05 - acc: 1.0000 - val_loss: 0.7500 - val_acc: 0.8839\n",
      "Epoch 9/20\n",
      "30/30 [==============================] - 2s 82ms/step - loss: 1.6898e-05 - acc: 1.0000 - val_loss: 0.8570 - val_acc: 0.8837\n",
      "Epoch 10/20\n",
      "30/30 [==============================] - 3s 88ms/step - loss: 3.4740e-06 - acc: 1.0000 - val_loss: 0.9556 - val_acc: 0.8841\n",
      "Epoch 11/20\n",
      "30/30 [==============================] - 3s 88ms/step - loss: 0.4397 - acc: 0.9765 - val_loss: 1.2052 - val_acc: 0.8341\n",
      "Epoch 12/20\n",
      "30/30 [==============================] - 3s 86ms/step - loss: 0.0010 - acc: 0.9998 - val_loss: 0.8107 - val_acc: 0.8716\n",
      "Epoch 13/20\n",
      "30/30 [==============================] - 2s 84ms/step - loss: 4.1731e-05 - acc: 1.0000 - val_loss: 0.7683 - val_acc: 0.8799\n",
      "Epoch 14/20\n",
      "30/30 [==============================] - 3s 85ms/step - loss: 1.2002e-05 - acc: 1.0000 - val_loss: 0.7764 - val_acc: 0.8814\n",
      "Epoch 15/20\n",
      "30/30 [==============================] - 3s 86ms/step - loss: 5.8034e-06 - acc: 1.0000 - val_loss: 0.7981 - val_acc: 0.8827\n",
      "Epoch 16/20\n",
      "30/30 [==============================] - 3s 88ms/step - loss: 2.8528e-06 - acc: 1.0000 - val_loss: 0.8471 - val_acc: 0.8835\n",
      "Epoch 17/20\n",
      "30/30 [==============================] - 3s 88ms/step - loss: 1.1898e-06 - acc: 1.0000 - val_loss: 0.9260 - val_acc: 0.8827\n",
      "Epoch 18/20\n",
      "30/30 [==============================] - 3s 88ms/step - loss: 4.5463e-07 - acc: 1.0000 - val_loss: 1.0113 - val_acc: 0.8836\n",
      "Epoch 19/20\n",
      "30/30 [==============================] - 3s 86ms/step - loss: 1.8164e-07 - acc: 1.0000 - val_loss: 1.0859 - val_acc: 0.8830\n",
      "Epoch 20/20\n",
      "30/30 [==============================] - 2s 80ms/step - loss: 7.8952e-08 - acc: 1.0000 - val_loss: 1.1495 - val_acc: 0.8837\n",
      "SMALLER MODEL\n",
      "\n",
      "Epoch 1/20\n",
      "30/30 [==============================] - 1s 24ms/step - loss: 0.5746 - acc: 0.7618 - val_loss: 0.4867 - val_acc: 0.8216\n",
      "Epoch 2/20\n",
      "30/30 [==============================] - 0s 14ms/step - loss: 0.4080 - acc: 0.8837 - val_loss: 0.3853 - val_acc: 0.8721\n",
      "Epoch 3/20\n",
      "30/30 [==============================] - 0s 15ms/step - loss: 0.3204 - acc: 0.9071 - val_loss: 0.3351 - val_acc: 0.8819\n",
      "Epoch 4/20\n",
      "30/30 [==============================] - 0s 14ms/step - loss: 0.2641 - acc: 0.9211 - val_loss: 0.3065 - val_acc: 0.8849\n",
      "Epoch 5/20\n",
      "30/30 [==============================] - 0s 15ms/step - loss: 0.2248 - acc: 0.9321 - val_loss: 0.2869 - val_acc: 0.8911\n",
      "Epoch 6/20\n",
      "30/30 [==============================] - 0s 14ms/step - loss: 0.1958 - acc: 0.9403 - val_loss: 0.2784 - val_acc: 0.8919\n",
      "Epoch 7/20\n",
      "30/30 [==============================] - 0s 14ms/step - loss: 0.1733 - acc: 0.9475 - val_loss: 0.2751 - val_acc: 0.8919\n",
      "Epoch 8/20\n",
      "30/30 [==============================] - 0s 14ms/step - loss: 0.1541 - acc: 0.9538 - val_loss: 0.2744 - val_acc: 0.8908\n",
      "Epoch 9/20\n",
      "30/30 [==============================] - 0s 14ms/step - loss: 0.1377 - acc: 0.9602 - val_loss: 0.2765 - val_acc: 0.8912\n",
      "Epoch 10/20\n",
      "30/30 [==============================] - 0s 14ms/step - loss: 0.1244 - acc: 0.9632 - val_loss: 0.2851 - val_acc: 0.8856\n",
      "Epoch 11/20\n",
      "30/30 [==============================] - 0s 14ms/step - loss: 0.1126 - acc: 0.9685 - val_loss: 0.2866 - val_acc: 0.8870\n",
      "Epoch 12/20\n",
      "30/30 [==============================] - 0s 14ms/step - loss: 0.1015 - acc: 0.9724 - val_loss: 0.2955 - val_acc: 0.8851\n",
      "Epoch 13/20\n",
      "30/30 [==============================] - 0s 14ms/step - loss: 0.0927 - acc: 0.9747 - val_loss: 0.3036 - val_acc: 0.8838\n",
      "Epoch 14/20\n",
      "30/30 [==============================] - 0s 14ms/step - loss: 0.0831 - acc: 0.9791 - val_loss: 0.3129 - val_acc: 0.8834\n",
      "Epoch 15/20\n",
      "30/30 [==============================] - 0s 14ms/step - loss: 0.0750 - acc: 0.9819 - val_loss: 0.3291 - val_acc: 0.8807\n",
      "Epoch 16/20\n",
      "30/30 [==============================] - 0s 15ms/step - loss: 0.0681 - acc: 0.9836 - val_loss: 0.3341 - val_acc: 0.8811\n",
      "Epoch 17/20\n",
      "30/30 [==============================] - 0s 14ms/step - loss: 0.0613 - acc: 0.9861 - val_loss: 0.3520 - val_acc: 0.8763\n",
      "Epoch 18/20\n",
      "30/30 [==============================] - 0s 14ms/step - loss: 0.0549 - acc: 0.9882 - val_loss: 0.3637 - val_acc: 0.8807\n",
      "Epoch 19/20\n",
      "30/30 [==============================] - 0s 14ms/step - loss: 0.0491 - acc: 0.9899 - val_loss: 0.3778 - val_acc: 0.8776\n",
      "Epoch 20/20\n",
      "30/30 [==============================] - 0s 14ms/step - loss: 0.0436 - acc: 0.9911 - val_loss: 0.3957 - val_acc: 0.8747\n"
     ]
    }
   ],
   "source": [
    "# CH4- Regularization: Different Network Size\n",
    "# Larger model has noisy validation loss graph\n",
    "# Training Loss:\n",
    "# Larger model's training loss becomes quickly zero, BUT \n",
    "# it is questionable in overfitting\n",
    "\n",
    "# LARGER MODEL\n",
    "print('LARGER MODEL\\n')\n",
    "L_model= models.Sequential()\n",
    "L_model.add(layers.Dense(512, activation= 'relu', input_shape=(10000,)))\n",
    "L_model.add(layers.Dense(512, activation= 'relu'))\n",
    "L_model.add(layers.Dense(1, activation= 'sigmoid'))\n",
    "L_model.compile(optimizer='rmsprop', loss= losses.binary_crossentropy, metrics= [metrics.binary_accuracy])\n",
    "L_model.compile(optimizer='rmsprop', loss='binary_crossentropy', metrics=['acc'])\n",
    "L_history= L_model.fit(partial_x_train, partial_y_train, epochs= 20, batch_size= 512, validation_data= (x_val, y_val))\n",
    "\n",
    "L_history_dict= L_history.history\n",
    "L_history_dict.keys()\n",
    "\n",
    "L_loss_values= L_history_dict['loss']\n",
    "L_val_loss_values= L_history_dict['val_loss']\n",
    "\n",
    "L_epochs= range(1, len(L_history_dict['acc'])+1)\n",
    "\n",
    "# SMALLER MODEL\n",
    "print('\\nSMALLER MODEL\\n')\n",
    "s_model= models.Sequential()\n",
    "s_model.add(layers.Dense(4, activation= 'relu', input_shape=(10000,)))\n",
    "s_model.add(layers.Dense(4, activation= 'relu'))\n",
    "s_model.add(layers.Dense(1, activation= 'sigmoid'))\n",
    "s_model.compile(optimizer='rmsprop', loss= losses.binary_crossentropy, metrics= [metrics.binary_accuracy])\n",
    "s_model.compile(optimizer='rmsprop', loss='binary_crossentropy', metrics=['acc'])\n",
    "s_history= s_model.fit(partial_x_train, partial_y_train, epochs= 20, batch_size= 512, validation_data= (x_val, y_val))\n",
    "\n",
    "s_history_dict= s_history.history\n",
    "s_history_dict.keys()\n",
    "\n",
    "s_loss_values= s_history_dict['loss']\n",
    "s_val_loss_values= s_history_dict['val_loss']\n",
    "\n",
    "s_epochs= range(1, len(s_history_dict['acc'])+1)\n"
   ]
  },
  {
   "cell_type": "code",
   "execution_count": 54,
   "id": "0783d99b",
   "metadata": {},
   "outputs": [
    {
     "data": {
      "image/png": "[encoded data removed]",
      "text/plain": [
       "<Figure size 432x288 with 6 Axes>"
      ]
     },
     "metadata": {
      "needs_background": "light"
     },
     "output_type": "display_data"
    }
   ],
   "source": [
    "# PLOTTING\n",
    "fig, axs= plt.subplots(2,3, sharex= True, sharey= True)\n",
    "axs[0,0].plot(epochs, val_loss_values,'ro', label= 'Original Model')\n",
    "axs[0,1].plot(s_epochs, s_val_loss_values,'bo', label= 'Smaller Model')\n",
    "axs[0,2].plot(L_epochs, L_val_loss_values,'go', label= 'Larger Model')\n",
    "\n",
    "\n",
    "axs[1,0].plot(epochs, loss_values,'ro', label= 'Original Model')\n",
    "axs[1,1].plot(s_epochs, s_loss_values,'bo', label= 'Smaller Model')\n",
    "axs[1,2].plot(L_epochs, L_loss_values,'go', label= 'Larger Model')\n",
    "\n",
    "\n",
    "plt.figtext(.230,1, \"Original Model\\n\", ha=\"center\", va=\"top\", fontsize=10)\n",
    "plt.figtext(.520,1, \"Smaller Model\\n\", ha=\"center\", va=\"top\", fontsize=10)\n",
    "plt.figtext(.800,1, \"Larger Model\\n\", ha=\"center\", va=\"top\", fontsize=10)\n",
    "\n",
    "fig.text(0.5, 0.04, 'Epochs', ha='center', va='center')\n",
    "fig.text(0.05, 0.5, 'Training Loss          Validation Loss', ha='center', va='center', rotation='vertical')\n",
    "plt.show()"
   ]
  },
  {
   "cell_type": "code",
   "execution_count": null,
   "id": "7ce0da3f",
   "metadata": {},
   "outputs": [],
   "source": []
  }
 ],
 "metadata": {
  "kernelspec": {
   "display_name": "Python 3",
   "language": "python",
   "name": "python3"
  },
  "language_info": {
   "codemirror_mode": {
    "name": "ipython",
    "version": 3
   },
   "file_extension": ".py",
   "mimetype": "text/x-python",
   "name": "python",
   "nbconvert_exporter": "python",
   "pygments_lexer": "ipython3",
   "version": "3.8.8"
  }
 },
 "nbformat": 4,
 "nbformat_minor": 5
}
