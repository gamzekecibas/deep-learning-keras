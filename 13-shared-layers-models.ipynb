{
 "cells": [
  {
   "cell_type": "markdown",
   "id": "2383aeae",
   "metadata": {},
   "source": [
    "## Functional API Implementation\n",
    "## Ch 7. Deep Learning w/ Python\n",
    "### Gamze Keçibaş\n",
    "---\n",
    "### CONTENT\n",
    "- **Step 01.** Import libraries  \n",
    "- **Step 02.** Define dataset\n",
    "- **Step 03.** Build the model\n",
    "    - **Step 03.1** Shared Input Layers (SIL)\n",
    "    - **Step 03.2** Shared Feature Extraction Layers (SFEL)"
   ]
  },
  {
   "cell_type": "markdown",
   "id": "b0269672",
   "metadata": {},
   "source": [
    "**Step 01.** Import libraries"
   ]
  },
  {
   "cell_type": "code",
   "execution_count": 1,
   "id": "a765c803",
   "metadata": {},
   "outputs": [],
   "source": [
    "# Step 01. Import libraries\n",
    "import tensorflow as tf\n",
    "from tensorflow import keras\n",
    "import numpy as np\n",
    "import pandas as pd"
   ]
  },
  {
   "cell_type": "markdown",
   "id": "e95c41cf",
   "metadata": {},
   "source": [
    "**Step 02.** Define dataset"
   ]
  },
  {
   "cell_type": "code",
   "execution_count": null,
   "id": "323ac620",
   "metadata": {},
   "outputs": [],
   "source": []
  },
  {
   "cell_type": "markdown",
   "id": "c7a4f9af",
   "metadata": {},
   "source": [
    "**Step 03. Build the model**  \n",
    "><code>input= layers.Input(shape=(2,))  \n",
    "> hidden= Dense(2)(input)  \n",
    "> model= Model(inputs= input, outputs= hidden) <code> \n",
    "    \n",
    "* **Step 03.1** Shared Input Layers (SIL)"
   ]
  },
  {
   "cell_type": "code",
   "execution_count": 2,
   "id": "f80d9fe8",
   "metadata": {
    "scrolled": true
   },
   "outputs": [
    {
     "name": "stdout",
     "output_type": "stream",
     "text": [
      "Model: \"model\"\n",
      "__________________________________________________________________________________________________\n",
      "Layer (type)                    Output Shape         Param #     Connected to                     \n",
      "==================================================================================================\n",
      "input_1 (InputLayer)            [(None, 64, 64, 1)]  0                                            \n",
      "__________________________________________________________________________________________________\n",
      "conv2d (Conv2D)                 (None, 61, 61, 32)   544         input_1[0][0]                    \n",
      "__________________________________________________________________________________________________\n",
      "conv2d_1 (Conv2D)               (None, 57, 57, 16)   1040        input_1[0][0]                    \n",
      "__________________________________________________________________________________________________\n",
      "max_pooling2d (MaxPooling2D)    (None, 30, 30, 32)   0           conv2d[0][0]                     \n",
      "__________________________________________________________________________________________________\n",
      "max_pooling2d_1 (MaxPooling2D)  (None, 28, 28, 16)   0           conv2d_1[0][0]                   \n",
      "__________________________________________________________________________________________________\n",
      "flatten (Flatten)               (None, 28800)        0           max_pooling2d[0][0]              \n",
      "__________________________________________________________________________________________________\n",
      "flatten_1 (Flatten)             (None, 12544)        0           max_pooling2d_1[0][0]            \n",
      "__________________________________________________________________________________________________\n",
      "concatenate (Concatenate)       (None, 41344)        0           flatten[0][0]                    \n",
      "                                                                 flatten_1[0][0]                  \n",
      "__________________________________________________________________________________________________\n",
      "dense (Dense)                   (None, 10)           413450      concatenate[0][0]                \n",
      "__________________________________________________________________________________________________\n",
      "dense_1 (Dense)                 (None, 1)            11          dense[0][0]                      \n",
      "==================================================================================================\n",
      "Total params: 415,045\n",
      "Trainable params: 415,045\n",
      "Non-trainable params: 0\n",
      "__________________________________________________________________________________________________\n",
      "None\n"
     ]
    }
   ],
   "source": [
    "input_SIL= tf.keras.layers.Input(shape=(64,64,1))\n",
    "\n",
    "#1st CNN submodel\n",
    "conv1_SIL= tf.keras.layers.Conv2D(32, kernel_size= 4, activation='relu')(input_SIL)\n",
    "pool1_SIL= tf.keras.layers.MaxPooling2D(2,2)(conv1_SIL)\n",
    "flat1_SIL= tf.keras.layers.Flatten()(pool1_SIL)\n",
    "\n",
    "#2nd CNN submodel\n",
    "conv2_SIL= tf.keras.layers.Conv2D(16, kernel_size= 8, activation='relu')(input_SIL)\n",
    "pool2_SIL= tf.keras.layers.MaxPooling2D(2,2)(conv2_SIL)\n",
    "flat2_SIL= tf.keras.layers.Flatten()(pool2_SIL)\n",
    "\n",
    "#Merging\n",
    "merge_SIL= tf.keras.layers.concatenate([flat1_SIL, flat2_SIL])\n",
    "\n",
    "#Interpretation layer\n",
    "hidden_SIL= tf.keras.layers.Dense(10, activation='relu')(merge_SIL)\n",
    "\n",
    "output_SIL= tf.keras.layers.Dense(1, activation= 'sigmoid')(hidden_SIL)\n",
    "\n",
    "model_SIL= tf.keras.models.Model(inputs= input_SIL, outputs= output_SIL)\n",
    "print(model_SIL.summary())"
   ]
  },
  {
   "cell_type": "code",
   "execution_count": null,
   "id": "a159aeb5",
   "metadata": {},
   "outputs": [],
   "source": []
  }
 ],
 "metadata": {
  "kernelspec": {
   "display_name": "Python 3",
   "language": "python",
   "name": "python3"
  },
  "language_info": {
   "codemirror_mode": {
    "name": "ipython",
    "version": 3
   },
   "file_extension": ".py",
   "mimetype": "text/x-python",
   "name": "python",
   "nbconvert_exporter": "python",
   "pygments_lexer": "ipython3",
   "version": "3.8.8"
  }
 },
 "nbformat": 4,
 "nbformat_minor": 5
}
