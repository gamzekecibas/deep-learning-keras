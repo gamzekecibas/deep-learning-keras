{
 "cells": [
  {
   "cell_type": "markdown",
   "id": "8d7c1d98",
   "metadata": {},
   "source": [
    "# Classifying Newswires:\n",
    "## Multiclass classification example\n",
    "### Deep Learning with Keras pg. 78\n",
    "#### Reuters Dataset"
   ]
  },
  {
   "cell_type": "code",
   "execution_count": 17,
   "id": "40d8d378",
   "metadata": {},
   "outputs": [
    {
     "name": "stdout",
     "output_type": "stream",
     "text": [
      "Length of train data: 8982\n",
      "length of test data: 2246\n"
     ]
    }
   ],
   "source": [
    "# Step 01: Prepare the Dataset\n",
    "from keras.datasets import reuters\n",
    "import numpy as np\n",
    "\n",
    "(train_data, train_labels), (test_data, test_labels)= reuters.load_data(num_words= 10000)\n",
    "print('Length of train data:', len(train_data))\n",
    "print('length of test data:', len(test_data))\n",
    "word_index= reuters.get_word_index()\n",
    "reverse_word_index= dict([(value, key) for (key, value) in word_index.items()])\n",
    "decoded_newswire= ' '.join([reverse_word_index.get(i - 3, '?') for i in train_data[0]])\n",
    "\n",
    "# Encoding the Data\n",
    "def vectorize_sequences(sequences, dimension=10000):\n",
    "    results = np.zeros((len(sequences), dimension))\n",
    "    for i, sequence in enumerate(sequences):\n",
    "        results[i, sequence]= 1.\n",
    "    return results\n",
    "\n",
    "x_train= vectorize_sequences(train_data)\n",
    "x_test= vectorize_sequences(test_data)\n",
    "\n",
    "def to_one_hot(labels, dimension=46):\n",
    "    results= np.zeros((len(labels), dimension))\n",
    "    for i, label in enumerate(labels):\n",
    "        results[i, label] = 1.\n",
    "        return results\n",
    "one_hot_train_labels= to_one_hot(train_labels)\n",
    "one_hot_test_labels= to_one_hot(test_labels)\n",
    "\n",
    "from keras.utils.np_utils import to_categorical\n",
    "one_hot_train_labels= to_categorical(train_labels)\n",
    "one_hot_test_labels= to_categorical(test_labels)"
   ]
  },
  {
   "cell_type": "code",
   "execution_count": 19,
   "id": "3517d5df",
   "metadata": {},
   "outputs": [],
   "source": [
    "# Step 02: Building the Network\n",
    "from keras import models\n",
    "from keras import layers\n",
    "\n",
    "model= models.Sequential()\n",
    "model.add(layers.Dense(64, activation= 'relu', input_shape= (10000,)))\n",
    "model.add(layers.Dense(64, activation= 'relu'))\n",
    "model.add(layers.Dense(46, activation= 'softmax'))\n",
    "\n",
    "model.compile(optimizer='rmsprop', loss='categorical_crossentropy', metrics=['accuracy'])"
   ]
  },
  {
   "cell_type": "code",
   "execution_count": 20,
   "id": "908b9ed5",
   "metadata": {},
   "outputs": [
    {
     "name": "stdout",
     "output_type": "stream",
     "text": [
      "Epoch 1/20\n",
      "16/16 [==============================] - 1s 31ms/step - loss: 2.6329 - accuracy: 0.5496 - val_loss: 1.7561 - val_accuracy: 0.6330\n",
      "Epoch 2/20\n",
      "16/16 [==============================] - 0s 21ms/step - loss: 1.4432 - accuracy: 0.7007 - val_loss: 1.3330 - val_accuracy: 0.7170\n",
      "Epoch 3/20\n",
      "16/16 [==============================] - 0s 21ms/step - loss: 1.0813 - accuracy: 0.7762 - val_loss: 1.1694 - val_accuracy: 0.7580\n",
      "Epoch 4/20\n",
      "16/16 [==============================] - 0s 21ms/step - loss: 0.8570 - accuracy: 0.8235 - val_loss: 1.0527 - val_accuracy: 0.7750\n",
      "Epoch 5/20\n",
      "16/16 [==============================] - 0s 20ms/step - loss: 0.6881 - accuracy: 0.8561 - val_loss: 0.9851 - val_accuracy: 0.7990\n",
      "Epoch 6/20\n",
      "16/16 [==============================] - 0s 23ms/step - loss: 0.5523 - accuracy: 0.8847 - val_loss: 0.9813 - val_accuracy: 0.7930\n",
      "Epoch 7/20\n",
      "16/16 [==============================] - 0s 21ms/step - loss: 0.4452 - accuracy: 0.9058 - val_loss: 0.9214 - val_accuracy: 0.8120\n",
      "Epoch 8/20\n",
      "16/16 [==============================] - 0s 21ms/step - loss: 0.3628 - accuracy: 0.9237 - val_loss: 0.9237 - val_accuracy: 0.8130\n",
      "Epoch 9/20\n",
      "16/16 [==============================] - 0s 20ms/step - loss: 0.2987 - accuracy: 0.9340 - val_loss: 0.9190 - val_accuracy: 0.8090\n",
      "Epoch 10/20\n",
      "16/16 [==============================] - 0s 20ms/step - loss: 0.2516 - accuracy: 0.9419 - val_loss: 0.9307 - val_accuracy: 0.8130\n",
      "Epoch 11/20\n",
      "16/16 [==============================] - 0s 20ms/step - loss: 0.2156 - accuracy: 0.9476 - val_loss: 0.9242 - val_accuracy: 0.8140\n",
      "Epoch 12/20\n",
      "16/16 [==============================] - 0s 20ms/step - loss: 0.1888 - accuracy: 0.9496 - val_loss: 0.9491 - val_accuracy: 0.8120\n",
      "Epoch 13/20\n",
      "16/16 [==============================] - 0s 19ms/step - loss: 0.1711 - accuracy: 0.9510 - val_loss: 0.9690 - val_accuracy: 0.8080\n",
      "Epoch 14/20\n",
      "16/16 [==============================] - 0s 20ms/step - loss: 0.1527 - accuracy: 0.9548 - val_loss: 0.9840 - val_accuracy: 0.8100\n",
      "Epoch 15/20\n",
      "16/16 [==============================] - 0s 19ms/step - loss: 0.1449 - accuracy: 0.9558 - val_loss: 1.0312 - val_accuracy: 0.8040\n",
      "Epoch 16/20\n",
      "16/16 [==============================] - 0s 20ms/step - loss: 0.1325 - accuracy: 0.9569 - val_loss: 1.0135 - val_accuracy: 0.8190\n",
      "Epoch 17/20\n",
      "16/16 [==============================] - 0s 19ms/step - loss: 0.1274 - accuracy: 0.9578 - val_loss: 1.0298 - val_accuracy: 0.8120\n",
      "Epoch 18/20\n",
      "16/16 [==============================] - 0s 19ms/step - loss: 0.1219 - accuracy: 0.9565 - val_loss: 1.0935 - val_accuracy: 0.8010\n",
      "Epoch 19/20\n",
      "16/16 [==============================] - 0s 20ms/step - loss: 0.1160 - accuracy: 0.9557 - val_loss: 1.1535 - val_accuracy: 0.7990\n",
      "Epoch 20/20\n",
      "16/16 [==============================] - 0s 18ms/step - loss: 0.1140 - accuracy: 0.9572 - val_loss: 1.1769 - val_accuracy: 0.7910\n"
     ]
    }
   ],
   "source": [
    "# Step 03: Validation of the model\n",
    "\n",
    "x_val= x_train[:1000]\n",
    "partial_x_train= x_train[1000:]\n",
    "\n",
    "y_val= one_hot_train_labels[:1000]\n",
    "partial_y_train= one_hot_train_labels[1000:]\n",
    "\n",
    "# Training the model\n",
    "history= model.fit(partial_x_train, partial_y_train, epochs=20, batch_size= 512, validation_data= (x_val, y_val))"
   ]
  },
  {
   "cell_type": "code",
   "execution_count": 22,
   "id": "32af94f6",
   "metadata": {
    "scrolled": true
   },
   "outputs": [
    {
     "data": {
      "image/png": "[encoded data removed]",
      "text/plain": [
       "<Figure size 432x288 with 1 Axes>"
      ]
     },
     "metadata": {
      "needs_background": "light"
     },
     "output_type": "display_data"
    }
   ],
   "source": [
    "# Step 04: Plotting \n",
    "import matplotlib.pyplot as plt\n",
    "\n",
    "loss= history.history['loss']\n",
    "val_loss= history.history['val_loss']\n",
    "\n",
    "epochs= range(1, len(loss)+1)\n",
    "\n",
    "plt.plot(epochs, loss, 'bo', label='Training loss')\n",
    "plt.plot(epochs, val_loss, 'b', label= 'Validation loss')\n",
    "plt.title('Training and validation loss')\n",
    "plt.xlabel('Epochs')\n",
    "plt.ylabel('Loss')\n",
    "plt.legend()\n",
    "\n",
    "plt.show()"
   ]
  },
  {
   "cell_type": "code",
   "execution_count": 28,
   "id": "d349a2fe",
   "metadata": {},
   "outputs": [
    {
     "data": {
      "image/png": "[encoded data removed]",
      "text/plain": [
       "<Figure size 432x288 with 1 Axes>"
      ]
     },
     "metadata": {
      "needs_background": "light"
     },
     "output_type": "display_data"
    },
    {
     "data": {
      "text/plain": [
       "0.19367764915405164"
      ]
     },
     "execution_count": 28,
     "metadata": {},
     "output_type": "execute_result"
    }
   ],
   "source": [
    "plt.clf()\n",
    "\n",
    "acc= history.history['accuracy']\n",
    "val_acc= history.history['val_accuracy']\n",
    "\n",
    "plt.plot(epochs, acc, 'bo', label= 'Training acc')\n",
    "plt.plot(epochs, val_acc, 'b', label= 'Validation acc')\n",
    "plt.title('Training and validation Accuracy')\n",
    "plt.xlabel('Epochs')\n",
    "plt.ylabel('Loss')\n",
    "plt.legend()\n",
    "\n",
    "plt.show()\n",
    "\n"
   ]
  },
  {
   "cell_type": "code",
   "execution_count": 29,
   "id": "5133306f",
   "metadata": {},
   "outputs": [
    {
     "name": "stdout",
     "output_type": "stream",
     "text": [
      "Epoch 1/9\n",
      "16/16 [==============================] - 1s 26ms/step - loss: 2.6166 - accuracy: 0.4630 - val_loss: 1.7490 - val_accuracy: 0.6330\n",
      "Epoch 2/9\n",
      "16/16 [==============================] - 0s 19ms/step - loss: 1.4257 - accuracy: 0.7002 - val_loss: 1.3157 - val_accuracy: 0.7190\n",
      "Epoch 3/9\n",
      "16/16 [==============================] - 0s 19ms/step - loss: 1.0560 - accuracy: 0.7727 - val_loss: 1.1411 - val_accuracy: 0.7520\n",
      "Epoch 4/9\n",
      "16/16 [==============================] - 0s 18ms/step - loss: 0.8334 - accuracy: 0.8198 - val_loss: 1.0367 - val_accuracy: 0.7770\n",
      "Epoch 5/9\n",
      "16/16 [==============================] - 0s 19ms/step - loss: 0.6673 - accuracy: 0.8574 - val_loss: 0.9684 - val_accuracy: 0.7970\n",
      "Epoch 6/9\n",
      "16/16 [==============================] - 0s 19ms/step - loss: 0.5316 - accuracy: 0.8880 - val_loss: 0.9204 - val_accuracy: 0.8070\n",
      "Epoch 7/9\n",
      "16/16 [==============================] - 0s 19ms/step - loss: 0.4315 - accuracy: 0.9098 - val_loss: 0.8801 - val_accuracy: 0.8180\n",
      "Epoch 8/9\n",
      "16/16 [==============================] - 0s 19ms/step - loss: 0.3524 - accuracy: 0.9265 - val_loss: 0.8751 - val_accuracy: 0.8160\n",
      "Epoch 9/9\n",
      "16/16 [==============================] - 0s 18ms/step - loss: 0.2884 - accuracy: 0.9364 - val_loss: 0.8882 - val_accuracy: 0.8110\n",
      "71/71 [==============================] - 0s 1ms/step - loss: 0.9583 - accuracy: 0.7885\n",
      "[0.9583447575569153, 0.7885128855705261]\n"
     ]
    },
    {
     "data": {
      "text/plain": [
       "0.188780053428317"
      ]
     },
     "execution_count": 29,
     "metadata": {},
     "output_type": "execute_result"
    }
   ],
   "source": [
    "# Step 05: Retraining the model from scratch\n",
    "\n",
    "model= models.Sequential()\n",
    "model.add(layers.Dense(64, activation='relu', input_shape=(10000,)))\n",
    "model.add(layers.Dense(64, activation='relu'))\n",
    "model.add(layers.Dense(46, activation='softmax'))\n",
    "\n",
    "model.compile(optimizer='rmsprop', loss='categorical_crossentropy', metrics=['accuracy'])\n",
    "model.fit(partial_x_train, partial_y_train, epochs=9, batch_size=512, validation_data= (x_val, y_val))\n",
    "results= model.evaluate(x_test, one_hot_test_labels)\n",
    "print(results)\n",
    "\n",
    "import copy\n",
    "test_labels_copy= copy.copy(test_labels)\n",
    "np.random.shuffle(test_labels_copy)\n",
    "hits_array= np.array(test_labels) == np.array(test_labels_copy)\n",
    "float(np.sum(hits_array)) / len(test_labels)"
   ]
  },
  {
   "cell_type": "code",
   "execution_count": 41,
   "id": "07ccaf8f",
   "metadata": {},
   "outputs": [
    {
     "name": "stdout",
     "output_type": "stream",
     "text": [
      "Size of prediction:  (46,)\n",
      "Sum of first line of predictions:  0.9999999\n",
      "The largest entrty in the predicted class:  35\n",
      "Epoch 1/20\n",
      "63/63 [==============================] - 1s 12ms/step - loss: 3.0439 - accuracy: 0.3553 - val_loss: 2.5891 - val_accuracy: 0.3950\n",
      "Epoch 2/20\n",
      "63/63 [==============================] - 1s 10ms/step - loss: 2.3904 - accuracy: 0.3969 - val_loss: 2.3400 - val_accuracy: 0.3970\n",
      "Epoch 3/20\n",
      "63/63 [==============================] - 1s 10ms/step - loss: 2.0609 - accuracy: 0.4173 - val_loss: 1.9985 - val_accuracy: 0.4220\n",
      "Epoch 4/20\n",
      "63/63 [==============================] - 1s 10ms/step - loss: 1.7007 - accuracy: 0.4476 - val_loss: 1.6780 - val_accuracy: 0.4570\n",
      "Epoch 5/20\n",
      "63/63 [==============================] - 1s 11ms/step - loss: 1.3814 - accuracy: 0.6258 - val_loss: 1.5010 - val_accuracy: 0.6260\n",
      "Epoch 6/20\n",
      "63/63 [==============================] - 1s 10ms/step - loss: 1.2032 - accuracy: 0.6641 - val_loss: 1.4316 - val_accuracy: 0.6530\n",
      "Epoch 7/20\n",
      "63/63 [==============================] - 1s 11ms/step - loss: 1.0884 - accuracy: 0.7086 - val_loss: 1.4089 - val_accuracy: 0.6770\n",
      "Epoch 8/20\n",
      "63/63 [==============================] - 1s 10ms/step - loss: 1.0113 - accuracy: 0.7385 - val_loss: 1.4178 - val_accuracy: 0.6810\n",
      "Epoch 9/20\n",
      "63/63 [==============================] - 1s 10ms/step - loss: 0.9555 - accuracy: 0.7499 - val_loss: 1.4600 - val_accuracy: 0.6760\n",
      "Epoch 10/20\n",
      "63/63 [==============================] - 1s 11ms/step - loss: 0.9061 - accuracy: 0.7541 - val_loss: 1.4772 - val_accuracy: 0.6830\n",
      "Epoch 11/20\n",
      "63/63 [==============================] - 1s 11ms/step - loss: 0.8660 - accuracy: 0.7595 - val_loss: 1.5137 - val_accuracy: 0.6700\n",
      "Epoch 12/20\n",
      "63/63 [==============================] - 1s 11ms/step - loss: 0.8317 - accuracy: 0.7665 - val_loss: 1.5297 - val_accuracy: 0.6760\n",
      "Epoch 13/20\n",
      "63/63 [==============================] - 1s 11ms/step - loss: 0.8033 - accuracy: 0.7759 - val_loss: 1.5751 - val_accuracy: 0.6720\n",
      "Epoch 14/20\n",
      "63/63 [==============================] - 1s 11ms/step - loss: 0.7785 - accuracy: 0.7853 - val_loss: 1.6051 - val_accuracy: 0.6770\n",
      "Epoch 15/20\n",
      "63/63 [==============================] - 1s 10ms/step - loss: 0.7551 - accuracy: 0.7927 - val_loss: 1.7402 - val_accuracy: 0.6690\n",
      "Epoch 16/20\n",
      "63/63 [==============================] - 1s 10ms/step - loss: 0.7366 - accuracy: 0.7940 - val_loss: 1.7616 - val_accuracy: 0.6800\n",
      "Epoch 17/20\n",
      "63/63 [==============================] - 1s 10ms/step - loss: 0.7191 - accuracy: 0.7925 - val_loss: 1.8256 - val_accuracy: 0.6840\n",
      "Epoch 18/20\n",
      "63/63 [==============================] - 1s 11ms/step - loss: 0.7074 - accuracy: 0.7929 - val_loss: 1.8709 - val_accuracy: 0.6710\n",
      "Epoch 19/20\n",
      "63/63 [==============================] - 1s 11ms/step - loss: 0.6891 - accuracy: 0.7963 - val_loss: 1.9021 - val_accuracy: 0.6690\n",
      "Epoch 20/20\n",
      "63/63 [==============================] - 1s 11ms/step - loss: 0.6778 - accuracy: 0.7994 - val_loss: 1.9719 - val_accuracy: 0.6670\n",
      "250/250 [==============================] - 0s 2ms/step - loss: 0.6494 - accuracy: 0.8014\n",
      "[0.6494364142417908, 0.8014281988143921]\n"
     ]
    }
   ],
   "source": [
    "# Step 06: Generating predictions on new data\n",
    "predictions= model.predict(x_test)\n",
    "print('Size of prediction: ',predictions[0].shape)\n",
    "print('Sum of first line of predictions: ', np.sum(predictions[0]))\n",
    "print('The largest entrty in the predicted class: ',np.argmax(predictions[0]))\n",
    "\n",
    "# A model w/ info bottleneck\n",
    "model= models.Sequential()\n",
    "model.add(layers.Dense(64, activation='relu', input_shape=(10000,)))\n",
    "model.add(layers.Dense(4, activation='relu'))\n",
    "model.add(layers.Dense(46, activation='softmax'))\n",
    "\n",
    "model.compile(optimizer='rmsprop', loss='categorical_crossentropy', metrics=['accuracy'])\n",
    "model.fit(partial_x_train,partial_y_train,epochs=20,batch_size=128,validation_data=(x_val, y_val))\n",
    "res= model.evaluate(partial_x_train, partial_y_train)\n",
    "print(res)"
   ]
  }
 ],
 "metadata": {
  "kernelspec": {
   "display_name": "Python 3",
   "language": "python",
   "name": "python3"
  },
  "language_info": {
   "codemirror_mode": {
    "name": "ipython",
    "version": 3
   },
   "file_extension": ".py",
   "mimetype": "text/x-python",
   "name": "python",
   "nbconvert_exporter": "python",
   "pygments_lexer": "ipython3",
   "version": "3.8.8"
  }
 },
 "nbformat": 4,
 "nbformat_minor": 5
}
