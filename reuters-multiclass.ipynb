{
 "cells": [
  {
   "cell_type": "markdown",
   "id": "8d7c1d98",
   "metadata": {},
   "source": [
    "# Classifying Newswires:\n",
    "## Multiclass classification example\n",
    "### Deep Learning with Keras_pg. 78\n",
    "#### Reuters Dataset"
   ]
  },
  {
   "cell_type": "code",
   "execution_count": 1,
   "id": "40d8d378",
   "metadata": {},
   "outputs": [
    {
     "name": "stdout",
     "output_type": "stream",
     "text": [
      "Length of train data: 8982\n",
      "length of test data: 2246\n"
     ]
    }
   ],
   "source": [
    "# Step 01: Prepare the Dataset\n",
    "from keras.datasets import reuters\n",
    "import numpy as np\n",
    "\n",
    "(train_data, train_labels), (test_data, test_labels)= reuters.load_data(num_words= 10000)\n",
    "print('Length of train data:', len(train_data))\n",
    "print('length of test data:', len(test_data))\n",
    "word_index= reuters.get_word_index()\n",
    "reverse_word_index= dict([(value, key) for (key, value) in word_index.items()])\n",
    "decoded_newswire= ' '.join([reverse_word_index.get(i - 3, '?') for i in train_data[0]])\n",
    "\n",
    "# Encoding the Data\n",
    "def vectorize_sequences(sequences, dimension=10000):\n",
    "    results = np.zeros((len(sequences), dimension))\n",
    "    for i, sequence in enumerate(sequences):\n",
    "        results[i, sequence]= 1.\n",
    "    return results\n",
    "\n",
    "x_train= vectorize_sequences(train_data)\n",
    "x_test= vectorize_sequences(test_data)\n",
    "\n",
    "def to_one_hot(labels, dimension=46):\n",
    "    results= np.zeros((len(labels), dimension))\n",
    "    for i, label in enumerate(labels):\n",
    "        results[i, label] = 1.\n",
    "        return results\n",
    "one_hot_train_labels= to_one_hot(train_labels)\n",
    "one_hot_test_labels= to_one_hot(test_labels)\n",
    "\n",
    "from keras.utils.np_utils import to_categorical\n",
    "one_hot_train_labels= to_categorical(train_labels)\n",
    "one_hot_test_labels= to_categorical(test_labels)"
   ]
  },
  {
   "cell_type": "code",
   "execution_count": 2,
   "id": "3517d5df",
   "metadata": {},
   "outputs": [],
   "source": [
    "# Step 02: Building the Network\n",
    "from keras import models\n",
    "from keras import layers\n",
    "\n",
    "model= models.Sequential()\n",
    "model.add(layers.Dense(64, activation= 'relu', input_shape= (10000,)))\n",
    "model.add(layers.Dense(64, activation= 'relu'))\n",
    "model.add(layers.Dense(46, activation= 'softmax'))\n",
    "\n",
    "model.compile(optimizer='rmsprop', loss='categorical_crossentropy', metrics=['accuracy'])"
   ]
  },
  {
   "cell_type": "code",
   "execution_count": 3,
   "id": "908b9ed5",
   "metadata": {},
   "outputs": [
    {
     "name": "stdout",
     "output_type": "stream",
     "text": [
      "Epoch 1/20\n",
      "16/16 [==============================] - 1s 29ms/step - loss: 2.6086 - accuracy: 0.5046 - val_loss: 1.7648 - val_accuracy: 0.6120\n",
      "Epoch 2/20\n",
      "16/16 [==============================] - 0s 20ms/step - loss: 1.4408 - accuracy: 0.6849 - val_loss: 1.3546 - val_accuracy: 0.6910\n",
      "Epoch 3/20\n",
      "16/16 [==============================] - 0s 19ms/step - loss: 1.0662 - accuracy: 0.7699 - val_loss: 1.1664 - val_accuracy: 0.7510\n",
      "Epoch 4/20\n",
      "16/16 [==============================] - 0s 20ms/step - loss: 0.8440 - accuracy: 0.8257 - val_loss: 1.0451 - val_accuracy: 0.7820\n",
      "Epoch 5/20\n",
      "16/16 [==============================] - 0s 20ms/step - loss: 0.6745 - accuracy: 0.8647 - val_loss: 0.9741 - val_accuracy: 0.7870\n",
      "Epoch 6/20\n",
      "16/16 [==============================] - 0s 19ms/step - loss: 0.5407 - accuracy: 0.8903 - val_loss: 0.9639 - val_accuracy: 0.7890\n",
      "Epoch 7/20\n",
      "16/16 [==============================] - 0s 19ms/step - loss: 0.4369 - accuracy: 0.9099 - val_loss: 0.9073 - val_accuracy: 0.8060\n",
      "Epoch 8/20\n",
      "16/16 [==============================] - 0s 21ms/step - loss: 0.3537 - accuracy: 0.9260 - val_loss: 0.9061 - val_accuracy: 0.8020\n",
      "Epoch 9/20\n",
      "16/16 [==============================] - 0s 19ms/step - loss: 0.2912 - accuracy: 0.9364 - val_loss: 0.8917 - val_accuracy: 0.8120\n",
      "Epoch 10/20\n",
      "16/16 [==============================] - 0s 19ms/step - loss: 0.2467 - accuracy: 0.9461 - val_loss: 0.8919 - val_accuracy: 0.8180\n",
      "Epoch 11/20\n",
      "16/16 [==============================] - 0s 19ms/step - loss: 0.2127 - accuracy: 0.9500 - val_loss: 0.9095 - val_accuracy: 0.8130\n",
      "Epoch 12/20\n",
      "16/16 [==============================] - 0s 21ms/step - loss: 0.1863 - accuracy: 0.9516 - val_loss: 0.9255 - val_accuracy: 0.8060\n",
      "Epoch 13/20\n",
      "16/16 [==============================] - 0s 20ms/step - loss: 0.1622 - accuracy: 0.9540 - val_loss: 0.9773 - val_accuracy: 0.8140\n",
      "Epoch 14/20\n",
      "16/16 [==============================] - 0s 19ms/step - loss: 0.1513 - accuracy: 0.9543 - val_loss: 0.9862 - val_accuracy: 0.8030\n",
      "Epoch 15/20\n",
      "16/16 [==============================] - 0s 19ms/step - loss: 0.1384 - accuracy: 0.9563 - val_loss: 0.9719 - val_accuracy: 0.8110\n",
      "Epoch 16/20\n",
      "16/16 [==============================] - 0s 20ms/step - loss: 0.1311 - accuracy: 0.9568 - val_loss: 0.9894 - val_accuracy: 0.8090\n",
      "Epoch 17/20\n",
      "16/16 [==============================] - 0s 19ms/step - loss: 0.1239 - accuracy: 0.9575 - val_loss: 1.0182 - val_accuracy: 0.8060\n",
      "Epoch 18/20\n",
      "16/16 [==============================] - 0s 19ms/step - loss: 0.1201 - accuracy: 0.9569 - val_loss: 1.0633 - val_accuracy: 0.7980\n",
      "Epoch 19/20\n",
      "16/16 [==============================] - 0s 20ms/step - loss: 0.1182 - accuracy: 0.9565 - val_loss: 1.0174 - val_accuracy: 0.8040\n",
      "Epoch 20/20\n",
      "16/16 [==============================] - 0s 18ms/step - loss: 0.1114 - accuracy: 0.9570 - val_loss: 1.0208 - val_accuracy: 0.8080\n"
     ]
    }
   ],
   "source": [
    "# Step 03: Validation of the model\n",
    "\n",
    "x_val= x_train[:1000]\n",
    "partial_x_train= x_train[1000:]\n",
    "\n",
    "y_val= one_hot_train_labels[:1000]\n",
    "partial_y_train= one_hot_train_labels[1000:]\n",
    "\n",
    "# Training the model\n",
    "history= model.fit(partial_x_train, partial_y_train, epochs=20, batch_size= 512, validation_data= (x_val, y_val))"
   ]
  },
  {
   "cell_type": "code",
   "execution_count": 4,
   "id": "32af94f6",
   "metadata": {
    "scrolled": true
   },
   "outputs": [
    {
     "data": {
      "image/png": "[encoded data removed]",
      "text/plain": [
       "<Figure size 432x288 with 1 Axes>"
      ]
     },
     "metadata": {
      "needs_background": "light"
     },
     "output_type": "display_data"
    }
   ],
   "source": [
    "# Step 04: Plotting \n",
    "import matplotlib.pyplot as plt\n",
    "\n",
    "loss= history.history['loss']\n",
    "val_loss= history.history['val_loss']\n",
    "\n",
    "epochs= range(1, len(loss)+1)\n",
    "\n",
    "plt.plot(epochs, loss, 'bo', label='Training loss')\n",
    "plt.plot(epochs, val_loss, 'b', label= 'Validation loss')\n",
    "plt.title('Training and validation loss')\n",
    "plt.xlabel('Epochs')\n",
    "plt.ylabel('Loss')\n",
    "plt.legend()\n",
    "\n",
    "plt.show()"
   ]
  },
  {
   "cell_type": "code",
   "execution_count": 5,
   "id": "d349a2fe",
   "metadata": {},
   "outputs": [
    {
     "data": {
      "image/png": "[encoded data removed]",
      "text/plain": [
       "<Figure size 432x288 with 1 Axes>"
      ]
     },
     "metadata": {
      "needs_background": "light"
     },
     "output_type": "display_data"
    }
   ],
   "source": [
    "plt.clf()\n",
    "\n",
    "acc= history.history['accuracy']\n",
    "val_acc= history.history['val_accuracy']\n",
    "\n",
    "plt.plot(epochs, acc, 'bo', label= 'Training acc')\n",
    "plt.plot(epochs, val_acc, 'b', label= 'Validation acc')\n",
    "plt.title('Training and validation Accuracy')\n",
    "plt.xlabel('Epochs')\n",
    "plt.ylabel('Loss')\n",
    "plt.legend()\n",
    "\n",
    "plt.show()"
   ]
  },
  {
   "cell_type": "code",
   "execution_count": 6,
   "id": "5133306f",
   "metadata": {},
   "outputs": [
    {
     "name": "stdout",
     "output_type": "stream",
     "text": [
      "Epoch 1/9\n",
      "16/16 [==============================] - 1s 27ms/step - loss: 2.5441 - accuracy: 0.5535 - val_loss: 1.7076 - val_accuracy: 0.6550\n",
      "Epoch 2/9\n",
      "16/16 [==============================] - 0s 20ms/step - loss: 1.4008 - accuracy: 0.7088 - val_loss: 1.3155 - val_accuracy: 0.7190\n",
      "Epoch 3/9\n",
      "16/16 [==============================] - 0s 20ms/step - loss: 1.0403 - accuracy: 0.7776 - val_loss: 1.1335 - val_accuracy: 0.7620\n",
      "Epoch 4/9\n",
      "16/16 [==============================] - 0s 19ms/step - loss: 0.8223 - accuracy: 0.8241 - val_loss: 1.0461 - val_accuracy: 0.7770\n",
      "Epoch 5/9\n",
      "16/16 [==============================] - 0s 20ms/step - loss: 0.6559 - accuracy: 0.8602 - val_loss: 0.9827 - val_accuracy: 0.7920\n",
      "Epoch 6/9\n",
      "16/16 [==============================] - 0s 19ms/step - loss: 0.5292 - accuracy: 0.8880 - val_loss: 0.9436 - val_accuracy: 0.8020\n",
      "Epoch 7/9\n",
      "16/16 [==============================] - 0s 19ms/step - loss: 0.4230 - accuracy: 0.9128 - val_loss: 0.9094 - val_accuracy: 0.8150\n",
      "Epoch 8/9\n",
      "16/16 [==============================] - 0s 20ms/step - loss: 0.3464 - accuracy: 0.9275 - val_loss: 0.9039 - val_accuracy: 0.8210\n",
      "Epoch 9/9\n",
      "16/16 [==============================] - 0s 18ms/step - loss: 0.2856 - accuracy: 0.9385 - val_loss: 0.9044 - val_accuracy: 0.8170\n",
      "71/71 [==============================] - 0s 1ms/step - loss: 0.9778 - accuracy: 0.7881\n",
      "[0.9777896404266357, 0.7880676984786987]\n"
     ]
    },
    {
     "data": {
      "text/plain": [
       "0.18655387355298308"
      ]
     },
     "execution_count": 6,
     "metadata": {},
     "output_type": "execute_result"
    }
   ],
   "source": [
    "# Step 05: Retraining the model from scratch\n",
    "\n",
    "model= models.Sequential()\n",
    "model.add(layers.Dense(64, activation='relu', input_shape=(10000,)))\n",
    "model.add(layers.Dense(64, activation='relu'))\n",
    "model.add(layers.Dense(46, activation='softmax'))\n",
    "\n",
    "model.compile(optimizer='rmsprop', loss='categorical_crossentropy', metrics=['accuracy'])\n",
    "model.fit(partial_x_train, partial_y_train, epochs=9, batch_size=512, validation_data= (x_val, y_val))\n",
    "results= model.evaluate(x_test, one_hot_test_labels)\n",
    "print(results)\n",
    "\n",
    "import copy\n",
    "test_labels_copy= copy.copy(test_labels)\n",
    "np.random.shuffle(test_labels_copy)\n",
    "hits_array= np.array(test_labels) == np.array(test_labels_copy)\n",
    "float(np.sum(hits_array)) / len(test_labels)"
   ]
  },
  {
   "cell_type": "code",
   "execution_count": 7,
   "id": "07ccaf8f",
   "metadata": {},
   "outputs": [
    {
     "name": "stdout",
     "output_type": "stream",
     "text": [
      "Size of prediction:  (46,)\n",
      "Sum of first line of predictions:  0.9999999\n",
      "The largest entrty in the predicted class:  3\n",
      "Epoch 1/20\n",
      "63/63 [==============================] - 1s 13ms/step - loss: 3.0274 - accuracy: 0.1080 - val_loss: 2.3138 - val_accuracy: 0.5790\n",
      "Epoch 2/20\n",
      "63/63 [==============================] - 1s 10ms/step - loss: 1.8201 - accuracy: 0.6035 - val_loss: 1.5868 - val_accuracy: 0.6020\n",
      "Epoch 3/20\n",
      "63/63 [==============================] - 1s 10ms/step - loss: 1.3694 - accuracy: 0.6329 - val_loss: 1.4516 - val_accuracy: 0.6180\n",
      "Epoch 4/20\n",
      "63/63 [==============================] - 1s 10ms/step - loss: 1.1863 - accuracy: 0.6695 - val_loss: 1.4078 - val_accuracy: 0.6300\n",
      "Epoch 5/20\n",
      "63/63 [==============================] - 1s 10ms/step - loss: 1.0571 - accuracy: 0.7130 - val_loss: 1.3661 - val_accuracy: 0.6630\n",
      "Epoch 6/20\n",
      "63/63 [==============================] - 1s 10ms/step - loss: 0.9536 - accuracy: 0.7566 - val_loss: 1.3804 - val_accuracy: 0.6930\n",
      "Epoch 7/20\n",
      "63/63 [==============================] - 1s 10ms/step - loss: 0.8693 - accuracy: 0.7912 - val_loss: 1.3707 - val_accuracy: 0.7140\n",
      "Epoch 8/20\n",
      "63/63 [==============================] - 1s 11ms/step - loss: 0.7953 - accuracy: 0.8086 - val_loss: 1.4202 - val_accuracy: 0.7150\n",
      "Epoch 9/20\n",
      "63/63 [==============================] - 1s 10ms/step - loss: 0.7324 - accuracy: 0.8186 - val_loss: 1.4525 - val_accuracy: 0.7120\n",
      "Epoch 10/20\n",
      "63/63 [==============================] - 1s 10ms/step - loss: 0.6832 - accuracy: 0.8254 - val_loss: 1.4587 - val_accuracy: 0.7230\n",
      "Epoch 11/20\n",
      "63/63 [==============================] - 1s 10ms/step - loss: 0.6367 - accuracy: 0.8329 - val_loss: 1.5097 - val_accuracy: 0.7110\n",
      "Epoch 12/20\n",
      "63/63 [==============================] - 1s 10ms/step - loss: 0.5994 - accuracy: 0.8374 - val_loss: 1.5936 - val_accuracy: 0.7140\n",
      "Epoch 13/20\n",
      "63/63 [==============================] - 1s 10ms/step - loss: 0.5651 - accuracy: 0.8462 - val_loss: 1.5890 - val_accuracy: 0.7190\n",
      "Epoch 14/20\n",
      "63/63 [==============================] - 1s 10ms/step - loss: 0.5363 - accuracy: 0.8508 - val_loss: 1.6369 - val_accuracy: 0.7190\n",
      "Epoch 15/20\n",
      "63/63 [==============================] - 1s 10ms/step - loss: 0.5101 - accuracy: 0.8557 - val_loss: 1.7225 - val_accuracy: 0.7190\n",
      "Epoch 16/20\n",
      "63/63 [==============================] - 1s 10ms/step - loss: 0.4848 - accuracy: 0.8627 - val_loss: 1.8065 - val_accuracy: 0.7200\n",
      "Epoch 17/20\n",
      "63/63 [==============================] - 1s 10ms/step - loss: 0.4660 - accuracy: 0.8695 - val_loss: 1.8422 - val_accuracy: 0.7130\n",
      "Epoch 18/20\n",
      "63/63 [==============================] - 1s 10ms/step - loss: 0.4450 - accuracy: 0.8716 - val_loss: 1.8924 - val_accuracy: 0.7180\n",
      "Epoch 19/20\n",
      "63/63 [==============================] - 1s 10ms/step - loss: 0.4277 - accuracy: 0.8777 - val_loss: 1.9915 - val_accuracy: 0.7130\n",
      "Epoch 20/20\n",
      "63/63 [==============================] - 1s 10ms/step - loss: 0.4103 - accuracy: 0.8845 - val_loss: 2.0100 - val_accuracy: 0.7070\n",
      "250/250 [==============================] - 0s 1ms/step - loss: 0.3951 - accuracy: 0.8879\n",
      "[0.3951277434825897, 0.8878726959228516]\n"
     ]
    }
   ],
   "source": [
    "# Step 06: Generating predictions on new data\n",
    "predictions= model.predict(x_test)\n",
    "print('Size of prediction: ',predictions[0].shape)\n",
    "print('Sum of first line of predictions: ', np.sum(predictions[0]))\n",
    "print('The largest entrty in the predicted class: ',np.argmax(predictions[0]))\n",
    "\n",
    "# A model w/ info bottleneck\n",
    "model= models.Sequential()\n",
    "model.add(layers.Dense(64, activation='relu', input_shape=(10000,)))\n",
    "model.add(layers.Dense(4, activation='relu'))\n",
    "model.add(layers.Dense(46, activation='softmax'))\n",
    "\n",
    "model.compile(optimizer='rmsprop', loss='categorical_crossentropy', metrics=['accuracy'])\n",
    "model.fit(partial_x_train,partial_y_train,epochs=20,batch_size=128,validation_data=(x_val, y_val))\n",
    "res= model.evaluate(partial_x_train, partial_y_train)\n",
    "print(res)"
   ]
  }
 ],
 "metadata": {
  "kernelspec": {
   "display_name": "Python 3",
   "language": "python",
   "name": "python3"
  },
  "language_info": {
   "codemirror_mode": {
    "name": "ipython",
    "version": 3
   },
   "file_extension": ".py",
   "mimetype": "text/x-python",
   "name": "python",
   "nbconvert_exporter": "python",
   "pygments_lexer": "ipython3",
   "version": "3.8.8"
  }
 },
 "nbformat": 4,
 "nbformat_minor": 5
}
